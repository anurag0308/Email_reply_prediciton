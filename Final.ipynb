{
  "nbformat": 4,
  "nbformat_minor": 0,
  "metadata": {
    "colab": {
      "name": "Final.ipynb",
      "provenance": [],
      "collapsed_sections": [],
      "include_colab_link": true
    },
    "kernelspec": {
      "name": "python3",
      "display_name": "Python 3"
    }
  },
  "cells": [
    {
      "cell_type": "markdown",
      "metadata": {
        "id": "view-in-github",
        "colab_type": "text"
      },
      "source": [
        "<a href=\"https://colab.research.google.com/github/anurag0308/Email_reply_prediciton/blob/main/Final.ipynb\" target=\"_parent\"><img src=\"https://colab.research.google.com/assets/colab-badge.svg\" alt=\"Open In Colab\"/></a>"
      ]
    },
    {
      "cell_type": "markdown",
      "metadata": {
        "id": "Kbnz-Ijj3tAg"
      },
      "source": [
        "## Problem Statement: To predict whether a given mail will get a reply or not.\n",
        "\n",
        "1. Given Dataset: A text file with emails and their metadata in hierarchy\n",
        "2. To predict: Reply/ No reply"
      ]
    },
    {
      "cell_type": "markdown",
      "metadata": {
        "id": "m9tN7T1GeakR"
      },
      "source": [
        ""
      ]
    },
    {
      "cell_type": "markdown",
      "metadata": {
        "id": "1lUxXMWyGUpe"
      },
      "source": [
        "# Our Approach:\n",
        "1. Load Data\n",
        "2. Extracting Data: Extracting text email subject and body data from the text file\n",
        "3. Text Data Cleaning and Preprocessing\n",
        "4. Feature engineering : extracting additional features from emails (such as header subject length, email body lengths, recepient count, attachment count)\n",
        "5. Modelling: \n",
        "              5.1 BERT Embeddings from the text data\n",
        "              5.2 combine with other features\n",
        "              5.3 train test split\n",
        "              5.4 predict using MLP classifier     \n",
        "              5.5 check F-1 score and plot ROC       \n"
      ]
    },
    {
      "cell_type": "markdown",
      "metadata": {
        "id": "AdhugZV530ig"
      },
      "source": [
        " Importing Libraries"
      ]
    },
    {
      "cell_type": "code",
      "metadata": {
        "colab": {
          "base_uri": "https://localhost:8080/"
        },
        "id": "VygCdSSw4If-",
        "outputId": "45aaabcf-1b4c-4040-ba1b-164a0e9bd5ca"
      },
      "source": [
        "import csv\n",
        "import pandas as pd\n",
        "import re\n",
        "import string\n",
        "from nltk import word_tokenize\n",
        "from nltk.corpus import stopwords\n",
        "from nltk.stem import WordNetLemmatizer\n",
        "lemmatizer = WordNetLemmatizer() #create a object of library\n",
        "from nltk.tokenize import word_tokenize\n",
        "\n",
        "import nltk\n",
        "nltk.download('stopwords')\n",
        "\n",
        "from sklearn import metrics"
      ],
      "execution_count": null,
      "outputs": [
        {
          "output_type": "stream",
          "text": [
            "[nltk_data] Downloading package stopwords to /root/nltk_data...\n",
            "[nltk_data]   Package stopwords is already up-to-date!\n"
          ],
          "name": "stdout"
        }
      ]
    },
    {
      "cell_type": "markdown",
      "metadata": {
        "id": "uwcMkh4a4Kr0"
      },
      "source": [
        "# 1. Load data"
      ]
    },
    {
      "cell_type": "code",
      "metadata": {
        "id": "ux4AgRrjZMr3",
        "colab": {
          "base_uri": "https://localhost:8080/"
        },
        "outputId": "3c6d0002-b02c-4e0d-c083-94eaba0344fb"
      },
      "source": [
        "from google.colab import drive\n",
        "drive.mount('/content/drive')"
      ],
      "execution_count": null,
      "outputs": [
        {
          "output_type": "stream",
          "text": [
            "Drive already mounted at /content/drive; to attempt to forcibly remount, call drive.mount(\"/content/drive\", force_remount=True).\n"
          ],
          "name": "stdout"
        }
      ]
    },
    {
      "cell_type": "code",
      "metadata": {
        "id": "wRnVnS87qXK2"
      },
      "source": [
        "f= open(\"data.csv\",\"w+\")"
      ],
      "execution_count": null,
      "outputs": []
    },
    {
      "cell_type": "code",
      "metadata": {
        "id": "iyrRpAivrlCx"
      },
      "source": [
        "f1 = open(\"/content/drive/My Drive/Bugendaitech/data (1).txt\",\"r\")  \r\n",
        "if f1.mode == 'r':\r\n",
        "    contents = f1.readlines()"
      ],
      "execution_count": null,
      "outputs": []
    },
    {
      "cell_type": "code",
      "metadata": {
        "colab": {
          "base_uri": "https://localhost:8080/"
        },
        "id": "BPEFH1NLr6Si",
        "outputId": "d67ca11d-f08f-4a08-a22a-94420814c928"
      },
      "source": [
        "print(contents[19].rstrip('\\n'))"
      ],
      "execution_count": null,
      "outputs": [
        {
          "output_type": "stream",
          "text": [
            "HEADER_CONTENT cc: Gary Hickerson/HOU/ECT@ECT, John Greene/LON/ECT@ECT, Michael W\n"
          ],
          "name": "stdout"
        }
      ]
    },
    {
      "cell_type": "markdown",
      "metadata": {
        "id": "o2y7k-GP4YR0"
      },
      "source": [
        "# 2. Extracting Data"
      ]
    },
    {
      "cell_type": "code",
      "metadata": {
        "id": "6W3Qy7wMsVIm"
      },
      "source": [
        "\"\"\"\r\n",
        "This method extracts emails \r\n",
        "input: list of contents\r\n",
        "returns: list of emails\r\n",
        "\"\"\"\r\n",
        "def extract_mail(contents):\r\n",
        "    emails = {}\r\n",
        "    tsi = [] #list of index where 'THREAD_START' is present \r\n",
        "    for i in range(len(contents)):\r\n",
        "        if 'THREAD_START' in contents[i].rstrip('\\n'):\r\n",
        "            tsi.append(i)\r\n",
        "    for i in range(len(tsi)-1):\r\n",
        "        emails[i] = contents[tsi[i]:tsi[i+1]]\r\n",
        "    return emails"
      ],
      "execution_count": null,
      "outputs": []
    },
    {
      "cell_type": "code",
      "metadata": {
        "id": "dCb0qLw3sapQ"
      },
      "source": [
        "emails = extract_mail(contents)"
      ],
      "execution_count": null,
      "outputs": []
    },
    {
      "cell_type": "code",
      "metadata": {
        "colab": {
          "base_uri": "https://localhost:8080/"
        },
        "id": "Mo5hOMY12WyG",
        "outputId": "ec16756b-f56a-4324-cc03-29e57879ac40"
      },
      "source": [
        "emails[1]"
      ],
      "execution_count": null,
      "outputs": [
        {
          "output_type": "execute_result",
          "data": {
            "text/plain": [
              "['THREAD_START \\n',\n",
              " 'HEADER_KEYWORDS sara signers ect greene shackleton\\n',\n",
              " 'HEADER_SUBJECT Authorized Signers\\n',\n",
              " 'EMAIL_START \\n',\n",
              " 'HEADER_CONTENT cc: Gary Hickerson/HOU/ECT@ECT, John Greene/LON/ECT@ECT, Michael W\\n',\n",
              " 'Bradley/HOU/ECT@ECT, Aneela Charania/HOU/ECT@ECT, Theresa T\\n',\n",
              " 'Brogan/HOU/ECT@ECT\\n',\n",
              " '\\n',\n",
              " 'Patrick and Michelle,\\n',\n",
              " 'We added both of you to the list for Authorized Signers for ECT Investments,\\n',\n",
              " 'Inc. for transfer of funds. Authorization requires one commercial and one\\n',\n",
              " 'commercial support signature.\\n',\n",
              " 'Thanks. Sheila\\n',\n",
              " '\\n',\n",
              " 'Current Authorized Signers for transfer of funds for ECT Investments, Inc.\\n',\n",
              " 'are M. Bradley, J. Greene, G. Hickerson, P. Lewis and M. Ruch.\\n',\n",
              " 'EMAIL_END \\n',\n",
              " 'FORWARD_START \\n',\n",
              " 'HEADER_CONTENT cc: John Greene/LON/ECT@ECT, Israel Estrada/Corp/Enron@ENRON, Aneela\\n',\n",
              " 'Charania/HOU/ECT@ECT\\n',\n",
              " '\\n',\n",
              " 'Sara and Samantha,\\n',\n",
              " 'When will ECT Investments be signed so we can send an updated copy to our\\n',\n",
              " 'Prime brokers?\\n',\n",
              " 'FORWARD_END \\n',\n",
              " 'REPLY_START \\n',\n",
              " 'HEADER_CONTENT It may be the first email but I gave this to Sam at our legal/credit meeting\\n',\n",
              " 'last week. She was going to wait for the meeting with Cassandra for approval\\n',\n",
              " \"and signature (which was postponed). But we can't postpone responding to the\\n\",\n",
              " 'request. Sara\\n',\n",
              " '\\n',\n",
              " 'Sara Shackleton\\n',\n",
              " 'Enron North America Corp.\\n',\n",
              " '1400 Smith Street, EB 3801a\\n',\n",
              " 'Houston, Texas 77002\\n',\n",
              " '713-853-5620 (phone)\\n',\n",
              " '713-646-3490 (fax)\\n',\n",
              " 'sara.shackleton@enron.com\\n',\n",
              " '\\n',\n",
              " '\\n',\n",
              " '\\n',\n",
              " 'Cheryl Nelson@ENRON\\n',\n",
              " 'Sent by: Cheryl Nelson@ENRON\\n',\n",
              " '01/12/2001 09:12 AM\\n',\n",
              " '\\n',\n",
              " 'To: Sara Shackleton/HOU/ECT@ECT\\n',\n",
              " 'cc:\\n',\n",
              " 'Subject: Re: Authorized Signers\\n',\n",
              " '\\n',\n",
              " 'I think that this is the first time I am hearing about this email? did I\\n',\n",
              " 'miss something? Let me know. in any case, I will get to it right away.\\n',\n",
              " 'Thanx.\\n',\n",
              " '\\n',\n",
              " '\\n',\n",
              " '\\n',\n",
              " 'Sara Shackleton@ECT\\n',\n",
              " '01/12/2001 08:32 AM\\n',\n",
              " '\\n',\n",
              " 'To: Samantha Boyd/NA/Enron@Enron, Cheryl Nelson/NA/Enron@Enron\\n',\n",
              " 'cc:\\n',\n",
              " 'Subject: Authorized Signers\\n',\n",
              " '\\n',\n",
              " \"As a general proposition, I need to be advised of the activity on Gary's\\n\",\n",
              " 'desk. Please let me know if you have responded to Sheila. I think the\\n',\n",
              " 'REPLY_END \\n',\n",
              " 'THREAD_END \\n']"
            ]
          },
          "metadata": {
            "tags": []
          },
          "execution_count": 92
        }
      ]
    },
    {
      "cell_type": "code",
      "metadata": {
        "id": "c2GjAMFw0XW0"
      },
      "source": [
        "\"\"\"\r\n",
        "This method extracts email body of a particular email\r\n",
        "Input: list of emails\r\n",
        "Returns: Dictionary mail_body with keys as index of mails and values as corresponding text of mail body\r\n",
        "\"\"\"\r\n",
        "\r\n",
        "def extract_mail_body1(emails):  \r\n",
        "    lust = list(emails.values())\r\n",
        "    mail_body = {}\r\n",
        "    for mails in range(len(lust)):\r\n",
        "        temp = lust[mails]\r\n",
        "        mbsi = []\r\n",
        "        mbei = []\r\n",
        "        #print(temp)\r\n",
        "        for line in range(len(temp)):\r\n",
        "            #print(temp[line])\r\n",
        "            if 'HEADER_CONTENT' in temp[line]:\r\n",
        "                mbsi.append(line)\r\n",
        "                break\r\n",
        "                #print(mbsi)\r\n",
        "        for line in range(len(temp)):\r\n",
        "            if 'EMAIL_END' in temp[line]:\r\n",
        "                mbei.append(line)\r\n",
        "        if mbei != []:\r\n",
        "          mail_body[mails] = temp[mbsi[0]:mbei[0]]\r\n",
        "        else:\r\n",
        "          mail_body[mails] = 'NA'\r\n",
        "\r\n",
        "    return mail_body"
      ],
      "execution_count": null,
      "outputs": []
    },
    {
      "cell_type": "code",
      "metadata": {
        "id": "ApRCtRng1BIK"
      },
      "source": [
        "mail_body1 = extract_mail_body1(emails)"
      ],
      "execution_count": null,
      "outputs": []
    },
    {
      "cell_type": "code",
      "metadata": {
        "id": "a5NSOci95bAS"
      },
      "source": [
        "\"\"\"\r\n",
        "This method checks whether mail has reply or not. Also, returns number of mails\r\n",
        "Input: list of emails\r\n",
        "Returns: reply_bool: dictionary indicating whether email has reply or not\r\n",
        "        reply_count: No. of replies\r\n",
        "\"\"\"\r\n",
        "\r\n",
        "def if_reply(emails):\r\n",
        "    lust = list(emails.values())\r\n",
        "    reply_bool = {}\r\n",
        "    reply_count = {}\r\n",
        "    for mails in range(len(lust)):\r\n",
        "        temp = lust[mails]\r\n",
        "        rsi = []\r\n",
        "        #print(tem\r\n",
        "        for line in range(len(temp)):\r\n",
        "            #print(temp[line])\r\n",
        "            if 'REPLY_START' in temp[line].rstrip('\\n'):\r\n",
        "              rsi.append('yes')\r\n",
        "        #print(rsi)\r\n",
        "\r\n",
        "        if rsi != []:\r\n",
        "          reply_bool[mails] = rsi[0]\r\n",
        "        else:\r\n",
        "          reply_bool[mails] = 'no'\r\n",
        "        \r\n",
        "        if rsi != []:\r\n",
        "          reply_count[mails] = len(rsi)\r\n",
        "        else:\r\n",
        "          reply_count[mails] = 0\r\n",
        "    \r\n",
        "          \r\n",
        "    return reply_bool,reply_count\r\n",
        "\r\n"
      ],
      "execution_count": null,
      "outputs": []
    },
    {
      "cell_type": "code",
      "metadata": {
        "id": "fGtjAfi3sRW5"
      },
      "source": [
        "reply_bool_count_list = if_reply(emails)  \r\n",
        "reply_bools = reply_bool_count_list[0]\r\n",
        "reply_counts = reply_bool_count_list[1]"
      ],
      "execution_count": null,
      "outputs": []
    },
    {
      "cell_type": "markdown",
      "metadata": {
        "id": "jXxQFwRiEMno"
      },
      "source": [
        "emails 8 has 2 replies and 17 has 3 replies # just to cross check"
      ]
    },
    {
      "cell_type": "code",
      "metadata": {
        "id": "o56kILBK5zMU"
      },
      "source": [
        "\"\"\"\r\n",
        "This method checks whether mail has forward or not. Also, returns number of forwards for the mail\r\n",
        "Input: list of emails\r\n",
        "Returns: forward_bool: dictionary indicating whether email has reply or not\r\n",
        "        forward_count: No. of replies\r\n",
        "\"\"\"\r\n",
        "\r\n",
        "def forward_counter(emails):\r\n",
        "    lust = list(emails.values())\r\n",
        "    forward_bool = {}\r\n",
        "    forward_count = {}\r\n",
        "    for mails in range(len(lust)):\r\n",
        "        temp = lust[mails]\r\n",
        "        fsi = [] #forward_start_index\r\n",
        "        #print(temp)\r\n",
        "        for line in range(len(temp)):\r\n",
        "            if 'FORWARD_START' in temp[line].rstrip('\\n'):\r\n",
        "              fsi.append('yes')\r\n",
        "        \r\n",
        "        if fsi != []:\r\n",
        "          forward_bool[mails] = fsi[0]\r\n",
        "        else:\r\n",
        "          forward_bool[mails] = 'no'\r\n",
        "        \r\n",
        "        if fsi != []:\r\n",
        "          forward_count[mails] = len(fsi)\r\n",
        "        else:\r\n",
        "          forward_count[mails] = 0\r\n",
        "\r\n",
        "    return forward_bool,forward_count"
      ],
      "execution_count": null,
      "outputs": []
    },
    {
      "cell_type": "code",
      "metadata": {
        "id": "905Q_1ZEScZv"
      },
      "source": [
        "forward_bool_counts_list = forward_counter(emails)"
      ],
      "execution_count": null,
      "outputs": []
    },
    {
      "cell_type": "code",
      "metadata": {
        "id": "ovFhRD4u644A"
      },
      "source": [
        "forward_bools = forward_bool_counts_list[0]\r\n",
        "forward_counts = forward_bool_counts_list[1]"
      ],
      "execution_count": null,
      "outputs": []
    },
    {
      "cell_type": "markdown",
      "metadata": {
        "id": "GwDzaSIrTMq-"
      },
      "source": [
        "Emial 7 has 3 forwards and 10 has 0  and 422 has 2 and 666 has 0 to cross check"
      ]
    },
    {
      "cell_type": "code",
      "metadata": {
        "id": "I8ja5MX4S5j6"
      },
      "source": [
        "\"\"\"\r\n",
        "This method extracts HEADER_SUBJECT\r\n",
        "Input: list of emails\r\n",
        "Returns:header_sub: dictionary with keys as index and values as header subjects\r\n",
        "\r\n",
        "\"\"\"\r\n",
        "def header_subject_extractor(emails):\r\n",
        "    lust = list(emails.values())\r\n",
        "    header_sub = {}\r\n",
        "    for mails in range(len(lust)):\r\n",
        "        temp = lust[mails]\r\n",
        "        hsi = 0 #header_subject_index\r\n",
        "        for line in range(len(temp)):\r\n",
        "            if 'HEADER_SUBJECT' in temp[line].rstrip('\\n'):\r\n",
        "              hsi = line\r\n",
        "        \r\n",
        "        header_sub[mails] = temp[hsi].strip('HEADER_SUBJECT\\n')\r\n",
        "\r\n",
        "    return header_sub\r\n",
        "  \r\n"
      ],
      "execution_count": null,
      "outputs": []
    },
    {
      "cell_type": "code",
      "metadata": {
        "id": "4yknpTj9Yszz"
      },
      "source": [
        "header_subject = header_subject_extractor(emails)\r\n"
      ],
      "execution_count": null,
      "outputs": []
    },
    {
      "cell_type": "code",
      "metadata": {
        "id": "j6KCluD5O3YG"
      },
      "source": [
        "\"\"\"\r\n",
        "This method counts no. of attachment\r\n",
        "Input: \r\n",
        "Returns:header_sub: dictionary with keys as index and values as no. of attachments \r\n",
        "\r\n",
        "\"\"\"\r\n",
        "def attachment_counter():\r\n",
        "  mails = extract_mail_body1(emails)\r\n",
        "  attachCount = {}\r\n",
        "  attachCount.fromkeys([i for i in range(len(mail_body1))])\r\n",
        "  a1 = []\r\n",
        "  for i in range(len(mails)):\r\n",
        "    a1.append(str(mails[i]))\r\n",
        "    attachCount[i] = a1[i].count(\"See attached file\")\r\n",
        "  return attachCount"
      ],
      "execution_count": null,
      "outputs": []
    },
    {
      "cell_type": "code",
      "metadata": {
        "id": "i4oH0FfGO3uL"
      },
      "source": [
        "attachment_counts = attachment_counter()"
      ],
      "execution_count": null,
      "outputs": []
    },
    {
      "cell_type": "code",
      "metadata": {
        "id": "vOYZfOAWO33c"
      },
      "source": [
        "\"\"\"\r\n",
        "This method counts no. of recepient\r\n",
        "Input: \r\n",
        "Returns:header_sub: dictionary with keys as index and values as no. of recepients \r\n",
        "\r\n",
        "\"\"\"\r\n",
        "def recepient_counter():\r\n",
        "  mails = extract_mail_body1(emails)\r\n",
        "  recepientCount = {}\r\n",
        "  recepientCount.fromkeys([i for i in range(len(mails))])\r\n",
        "  a2 = []\r\n",
        "  for i in range(len(mails)):\r\n",
        "    b = str(mail_body1[i])\r\n",
        "    start = b.find('HEADER_CONTENT') + 14\r\n",
        "    end = b.find(\"\\\\n', '\\\\n'\", start)\r\n",
        "    a2.append(b[start:end])\r\n",
        "    recepientCount[i] = a2[i].count(\"@\")\r\n",
        "  return recepientCount"
      ],
      "execution_count": null,
      "outputs": []
    },
    {
      "cell_type": "code",
      "metadata": {
        "id": "ks3a7jDEO3_z"
      },
      "source": [
        "recepient_counts = recepient_counter()"
      ],
      "execution_count": null,
      "outputs": []
    },
    {
      "cell_type": "code",
      "metadata": {
        "id": "Z7ce6h65rSv6"
      },
      "source": [
        "dicts = mail_body1,reply_bools,reply_counts,forward_bools,forward_counts,header_subject,attachment_counts,recepient_counts"
      ],
      "execution_count": null,
      "outputs": []
    },
    {
      "cell_type": "code",
      "metadata": {
        "id": "lW9gvbv6Y9G9"
      },
      "source": [
        "import csv\r\n",
        "with open('my_data.csv', 'w') as ofile:\r\n",
        "    writer = csv.writer(ofile, delimiter=',')\r\n",
        "    writer.writerow(['content(mail body)','if_reply(yes/no)','reply_count','if_forward(yes/no)','forward_count','header_subject','attachment_counts','recepient_counts'])\r\n",
        "    for key in mail_body1.keys():\r\n",
        "        writer.writerow([d[key] for d in dicts])"
      ],
      "execution_count": null,
      "outputs": []
    },
    {
      "cell_type": "markdown",
      "metadata": {
        "id": "43Bz6amD8Zxt"
      },
      "source": [
        "# 3. Text Data Cleaning & Preprocessing"
      ]
    },
    {
      "cell_type": "markdown",
      "metadata": {
        "id": "f40p1Zog8NUt"
      },
      "source": [
        "Importing Preprocessing Libraries"
      ]
    },
    {
      "cell_type": "code",
      "metadata": {
        "id": "r6qn0Vn3zmVS"
      },
      "source": [
        "import pandas as pd\r\n",
        "import re\r\n",
        "import string\r\n",
        "from nltk import word_tokenize\r\n",
        "from nltk.corpus import stopwords\r\n",
        "from nltk.stem import WordNetLemmatizer\r\n",
        "lemmatizer = WordNetLemmatizer() #create a object of library\r\n",
        "from nltk.tokenize import word_tokenize\r\n"
      ],
      "execution_count": null,
      "outputs": []
    },
    {
      "cell_type": "code",
      "metadata": {
        "colab": {
          "base_uri": "https://localhost:8080/"
        },
        "id": "fTJ6d_jJ8wjo",
        "outputId": "bd64ffd9-0b72-4777-936e-587a9122e270"
      },
      "source": [
        "import nltk\r\n",
        "nltk.download('stopwords')"
      ],
      "execution_count": null,
      "outputs": [
        {
          "output_type": "stream",
          "text": [
            "[nltk_data] Downloading package stopwords to /root/nltk_data...\n",
            "[nltk_data]   Package stopwords is already up-to-date!\n"
          ],
          "name": "stdout"
        },
        {
          "output_type": "execute_result",
          "data": {
            "text/plain": [
              "True"
            ]
          },
          "metadata": {
            "tags": []
          },
          "execution_count": 170
        }
      ]
    },
    {
      "cell_type": "code",
      "metadata": {
        "id": "Ot0sMZG783uI"
      },
      "source": [
        "stop_words = set(stopwords.words('english')) #create a list of unique stopwords of english language"
      ],
      "execution_count": null,
      "outputs": []
    },
    {
      "cell_type": "code",
      "metadata": {
        "colab": {
          "base_uri": "https://localhost:8080/"
        },
        "id": "2OiaoxM087w-",
        "outputId": "002c1547-7eb7-476b-a9c3-2d375f36e64a"
      },
      "source": [
        "nltk.download('punkt')"
      ],
      "execution_count": null,
      "outputs": [
        {
          "output_type": "stream",
          "text": [
            "[nltk_data] Downloading package punkt to /root/nltk_data...\n",
            "[nltk_data]   Package punkt is already up-to-date!\n"
          ],
          "name": "stdout"
        },
        {
          "output_type": "execute_result",
          "data": {
            "text/plain": [
              "True"
            ]
          },
          "metadata": {
            "tags": []
          },
          "execution_count": 172
        }
      ]
    },
    {
      "cell_type": "code",
      "metadata": {
        "colab": {
          "base_uri": "https://localhost:8080/"
        },
        "id": "__jijEZn8-s_",
        "outputId": "801b73f8-e204-4087-c041-d7231c7f0daa"
      },
      "source": [
        "nltk.download('wordnet')"
      ],
      "execution_count": null,
      "outputs": [
        {
          "output_type": "stream",
          "text": [
            "[nltk_data] Downloading package wordnet to /root/nltk_data...\n",
            "[nltk_data]   Package wordnet is already up-to-date!\n"
          ],
          "name": "stdout"
        },
        {
          "output_type": "execute_result",
          "data": {
            "text/plain": [
              "True"
            ]
          },
          "metadata": {
            "tags": []
          },
          "execution_count": 173
        }
      ]
    },
    {
      "cell_type": "code",
      "metadata": {
        "colab": {
          "base_uri": "https://localhost:8080/",
          "height": 289
        },
        "id": "fP1o2Nqt8ol6",
        "outputId": "c9b745ee-fbe3-4a36-c16c-7510cdfc262b"
      },
      "source": [
        "data = pd.read_csv('my_data.csv')\r\n",
        "data.head()\r\n"
      ],
      "execution_count": null,
      "outputs": [
        {
          "output_type": "execute_result",
          "data": {
            "text/html": [
              "<div>\n",
              "<style scoped>\n",
              "    .dataframe tbody tr th:only-of-type {\n",
              "        vertical-align: middle;\n",
              "    }\n",
              "\n",
              "    .dataframe tbody tr th {\n",
              "        vertical-align: top;\n",
              "    }\n",
              "\n",
              "    .dataframe thead th {\n",
              "        text-align: right;\n",
              "    }\n",
              "</style>\n",
              "<table border=\"1\" class=\"dataframe\">\n",
              "  <thead>\n",
              "    <tr style=\"text-align: right;\">\n",
              "      <th></th>\n",
              "      <th>content(mail body)</th>\n",
              "      <th>if_reply(yes/no)</th>\n",
              "      <th>reply_count</th>\n",
              "      <th>if_forward(yes/no)</th>\n",
              "      <th>forward_count</th>\n",
              "      <th>header_subject</th>\n",
              "      <th>attachment_counts</th>\n",
              "      <th>recepient_counts</th>\n",
              "    </tr>\n",
              "  </thead>\n",
              "  <tbody>\n",
              "    <tr>\n",
              "      <th>0</th>\n",
              "      <td>['HEADER_CONTENT cc:\\n', '\\n', 'Sara -\\n', 'SM...</td>\n",
              "      <td>no</td>\n",
              "      <td>0</td>\n",
              "      <td>no</td>\n",
              "      <td>0</td>\n",
              "      <td>SM</td>\n",
              "      <td>0</td>\n",
              "      <td>0</td>\n",
              "    </tr>\n",
              "    <tr>\n",
              "      <th>1</th>\n",
              "      <td>['HEADER_CONTENT cc: Gary Hickerson/HOU/ECT@EC...</td>\n",
              "      <td>yes</td>\n",
              "      <td>1</td>\n",
              "      <td>yes</td>\n",
              "      <td>1</td>\n",
              "      <td>Authorized Signers</td>\n",
              "      <td>0</td>\n",
              "      <td>5</td>\n",
              "    </tr>\n",
              "    <tr>\n",
              "      <th>2</th>\n",
              "      <td>['HEADER_CONTENT cc:\\n', '\\n', 'Sara\\n', '\\n',...</td>\n",
              "      <td>yes</td>\n",
              "      <td>1</td>\n",
              "      <td>no</td>\n",
              "      <td>0</td>\n",
              "      <td>ISDA Master Agreements</td>\n",
              "      <td>0</td>\n",
              "      <td>0</td>\n",
              "    </tr>\n",
              "    <tr>\n",
              "      <th>3</th>\n",
              "      <td>['HEADER_CONTENT cc: \"Abba Gana, Mustapha\" &lt;Ab...</td>\n",
              "      <td>yes</td>\n",
              "      <td>1</td>\n",
              "      <td>no</td>\n",
              "      <td>0</td>\n",
              "      <td>From MEGA, Consent to Assignment....</td>\n",
              "      <td>0</td>\n",
              "      <td>1</td>\n",
              "    </tr>\n",
              "    <tr>\n",
              "      <th>4</th>\n",
              "      <td>[\"HEADER_CONTENT In connection with Enron's PA...</td>\n",
              "      <td>no</td>\n",
              "      <td>0</td>\n",
              "      <td>yes</td>\n",
              "      <td>2</td>\n",
              "      <td>Enron PATS 2000-1</td>\n",
              "      <td>9</td>\n",
              "      <td>0</td>\n",
              "    </tr>\n",
              "  </tbody>\n",
              "</table>\n",
              "</div>"
            ],
            "text/plain": [
              "                                  content(mail body)  ... recepient_counts\n",
              "0  ['HEADER_CONTENT cc:\\n', '\\n', 'Sara -\\n', 'SM...  ...                0\n",
              "1  ['HEADER_CONTENT cc: Gary Hickerson/HOU/ECT@EC...  ...                5\n",
              "2  ['HEADER_CONTENT cc:\\n', '\\n', 'Sara\\n', '\\n',...  ...                0\n",
              "3  ['HEADER_CONTENT cc: \"Abba Gana, Mustapha\" <Ab...  ...                1\n",
              "4  [\"HEADER_CONTENT In connection with Enron's PA...  ...                0\n",
              "\n",
              "[5 rows x 8 columns]"
            ]
          },
          "metadata": {
            "tags": []
          },
          "execution_count": 223
        }
      ]
    },
    {
      "cell_type": "code",
      "metadata": {
        "id": "l5jRWSphg0Xi"
      },
      "source": [
        "\"\"\"\r\n",
        "This method cleans data in a text column\r\n",
        "input: col_name\r\n",
        "returns: cleaned data column\r\n",
        "\"\"\"\r\n",
        "def data_cleaner(col_name):\r\n",
        "  for i in range(len(data[col_name])):\r\n",
        "    if type(data['content(mail body)'][i]) == str:\r\n",
        "      data.loc[i,col_name] = re.sub(r\"http\\S+\", \"\", data[col_name][i])  # for url\r\n",
        "      data.loc[i,col_name] = re.sub(r\"[a-z0-9\\.\\-+_]+@[a-z0-9\\.\\-+_]+\\.[a-z]+\", \"\", data[col_name][i]) # for email\r\n",
        "      data.loc[i,col_name] = re.sub(\"@[^\\s]+\", \"\", data[col_name][i]) # for username\r\n",
        "      data.loc[i,col_name] = re.sub(\"#[^\\s]+\", \"\", data[col_name][i]) # for trending # words\r\n",
        "      data.loc[i,col_name] = re.sub(\"\\$\\w*\", \"\", data[col_name][i])\r\n",
        "      data.loc[i,col_name] = data[col_name][i].replace(\"\\\\n\",\"\")\r\n",
        "      data.loc[i,col_name] = data[col_name][i].replace(\"'\",\"\")\r\n",
        "      data.loc[i,col_name] = data[col_name][i].replace(\"HEADER_CONTENT cc\",\"\")\r\n",
        "      data.loc[i,col_name] = data[col_name][i].replace(\"cc\",\"\")\r\n",
        "      data.loc[i,col_name] = data[col_name][i].replace(\"HEADER_CONTENT\",\"\")\r\n",
        "  return data[col_name]"
      ],
      "execution_count": null,
      "outputs": []
    },
    {
      "cell_type": "code",
      "metadata": {
        "id": "7lBbSHpZ3JfT"
      },
      "source": [
        "\"\"\"\r\n",
        "This method preprocesses (tokenization, lemmatization, stopword removal, punctuations) data in a text column\r\n",
        "input: col_name\r\n",
        "returns: preprocessed data column\r\n",
        "\"\"\"\r\n",
        "def data_preprocessing(col_name):\r\n",
        "  for i in range(len(data[col_name])):\r\n",
        "    if type(data[col_name][i]) == str:\r\n",
        "      word_tokens = word_tokenize(data[col_name][i])\r\n",
        "      lemmatized_words = [lemmatizer.lemmatize(w) for w in word_tokens if not w in stop_words]\r\n",
        "      lemmatized_words1 = \" \".join([word.lower() for word in lemmatized_words if word not in string.punctuation])\r\n",
        "      data.loc[i,col_name] = lemmatized_words1\r\n",
        "  return data[col_name]\r\n"
      ],
      "execution_count": null,
      "outputs": []
    },
    {
      "cell_type": "code",
      "metadata": {
        "id": "BCilh_Y09McV"
      },
      "source": [
        "data['content(mail body)'] = data_cleaner('content(mail body)')\r\n",
        "data['header_subject'] = data_cleaner('header_subject')"
      ],
      "execution_count": null,
      "outputs": []
    },
    {
      "cell_type": "code",
      "metadata": {
        "id": "YPhGtmWaW0UX"
      },
      "source": [
        "data['content(mail body)'] = data_preprocessing('content(mail body)')\r\n"
      ],
      "execution_count": null,
      "outputs": []
    },
    {
      "cell_type": "code",
      "metadata": {
        "id": "BNLUccuj-KVW"
      },
      "source": [
        "data['header_subject'] = data_preprocessing('header_subject')"
      ],
      "execution_count": null,
      "outputs": []
    },
    {
      "cell_type": "code",
      "metadata": {
        "colab": {
          "base_uri": "https://localhost:8080/",
          "height": 289
        },
        "id": "qz8nSf__6u4G",
        "outputId": "112baf1b-f76d-47bf-8834-959cbaac4d58"
      },
      "source": [
        "data.head()"
      ],
      "execution_count": null,
      "outputs": [
        {
          "output_type": "execute_result",
          "data": {
            "text/html": [
              "<div>\n",
              "<style scoped>\n",
              "    .dataframe tbody tr th:only-of-type {\n",
              "        vertical-align: middle;\n",
              "    }\n",
              "\n",
              "    .dataframe tbody tr th {\n",
              "        vertical-align: top;\n",
              "    }\n",
              "\n",
              "    .dataframe thead th {\n",
              "        text-align: right;\n",
              "    }\n",
              "</style>\n",
              "<table border=\"1\" class=\"dataframe\">\n",
              "  <thead>\n",
              "    <tr style=\"text-align: right;\">\n",
              "      <th></th>\n",
              "      <th>content(mail body)</th>\n",
              "      <th>if_reply(yes/no)</th>\n",
              "      <th>reply_count</th>\n",
              "      <th>if_forward(yes/no)</th>\n",
              "      <th>forward_count</th>\n",
              "      <th>header_subject</th>\n",
              "      <th>attachment_counts</th>\n",
              "      <th>recepient_counts</th>\n",
              "    </tr>\n",
              "  </thead>\n",
              "  <tbody>\n",
              "    <tr>\n",
              "      <th>0</th>\n",
              "      <td>sara smud gave u version isda agreement 6 week...</td>\n",
              "      <td>no</td>\n",
              "      <td>0</td>\n",
              "      <td>no</td>\n",
              "      <td>0</td>\n",
              "      <td>sm</td>\n",
              "      <td>0</td>\n",
              "      <td>0</td>\n",
              "    </tr>\n",
              "    <tr>\n",
              "      <th>1</th>\n",
              "      <td>gary hickerson/hou/ect john greene/lon/ect mic...</td>\n",
              "      <td>yes</td>\n",
              "      <td>1</td>\n",
              "      <td>yes</td>\n",
              "      <td>1</td>\n",
              "      <td>authorized signers</td>\n",
              "      <td>0</td>\n",
              "      <td>5</td>\n",
              "    </tr>\n",
              "    <tr>\n",
              "      <th>2</th>\n",
              "      <td>sara it agreed ena ectric c/p referred way nov...</td>\n",
              "      <td>yes</td>\n",
              "      <td>1</td>\n",
              "      <td>no</td>\n",
              "      <td>0</td>\n",
              "      <td>isda master agreements</td>\n",
              "      <td>0</td>\n",
              "      <td>0</td>\n",
              "    </tr>\n",
              "    <tr>\n",
              "      <th>3</th>\n",
              "      <td>`` abba gana mustapha '' abbaganam susan pleas...</td>\n",
              "      <td>yes</td>\n",
              "      <td>1</td>\n",
              "      <td>no</td>\n",
              "      <td>0</td>\n",
              "      <td>from mega consent assignment ...</td>\n",
              "      <td>0</td>\n",
              "      <td>1</td>\n",
              "    </tr>\n",
              "    <tr>\n",
              "      <th>4</th>\n",
              "      <td>`` in connection enrons pats offering attachin...</td>\n",
              "      <td>no</td>\n",
              "      <td>0</td>\n",
              "      <td>yes</td>\n",
              "      <td>2</td>\n",
              "      <td>enron pats 2000-1</td>\n",
              "      <td>9</td>\n",
              "      <td>0</td>\n",
              "    </tr>\n",
              "  </tbody>\n",
              "</table>\n",
              "</div>"
            ],
            "text/plain": [
              "                                  content(mail body)  ... recepient_counts\n",
              "0  sara smud gave u version isda agreement 6 week...  ...                0\n",
              "1  gary hickerson/hou/ect john greene/lon/ect mic...  ...                5\n",
              "2  sara it agreed ena ectric c/p referred way nov...  ...                0\n",
              "3  `` abba gana mustapha '' abbaganam susan pleas...  ...                1\n",
              "4  `` in connection enrons pats offering attachin...  ...                0\n",
              "\n",
              "[5 rows x 8 columns]"
            ]
          },
          "metadata": {
            "tags": []
          },
          "execution_count": 229
        }
      ]
    },
    {
      "cell_type": "code",
      "metadata": {
        "colab": {
          "base_uri": "https://localhost:8080/"
        },
        "id": "VT9K7FflFP3c",
        "outputId": "271177a0-332e-4946-e326-3f4f50bf1645"
      },
      "source": [
        "!pip install git+https://github.com/laxmimerit/preprocess_kgptalkie.git #Preprocessing Library"
      ],
      "execution_count": null,
      "outputs": [
        {
          "output_type": "stream",
          "text": [
            "Collecting git+https://github.com/laxmimerit/preprocess_kgptalkie.git\n",
            "  Cloning https://github.com/laxmimerit/preprocess_kgptalkie.git to /tmp/pip-req-build-1fgdagpk\n",
            "  Running command git clone -q https://github.com/laxmimerit/preprocess_kgptalkie.git /tmp/pip-req-build-1fgdagpk\n",
            "Requirement already satisfied (use --upgrade to upgrade): preprocess-kgptalkie==0.1.3 from git+https://github.com/laxmimerit/preprocess_kgptalkie.git in /usr/local/lib/python3.6/dist-packages\n",
            "Building wheels for collected packages: preprocess-kgptalkie\n",
            "  Building wheel for preprocess-kgptalkie (setup.py) ... \u001b[?25l\u001b[?25hdone\n",
            "  Created wheel for preprocess-kgptalkie: filename=preprocess_kgptalkie-0.1.3-cp36-none-any.whl size=11742 sha256=9e1ec3aa3b3b9211d10bd36f8a541eb48b74c60100aa2c67f3d23afa68a4d2f3\n",
            "  Stored in directory: /tmp/pip-ephem-wheel-cache-0a2cvglz/wheels/a8/18/22/90afa4bd43247fb9a75b710a4a3fcd94966c022ce9e3c7d0a6\n",
            "Successfully built preprocess-kgptalkie\n"
          ],
          "name": "stdout"
        }
      ]
    },
    {
      "cell_type": "code",
      "metadata": {
        "id": "EjrLdmsJG4sI"
      },
      "source": [
        "import preprocess_kgptalkie as ps"
      ],
      "execution_count": null,
      "outputs": []
    },
    {
      "cell_type": "code",
      "metadata": {
        "id": "43Vo13BvHCs1"
      },
      "source": [
        "\"\"\"\r\n",
        "This method further cleans data in a text column\r\n",
        "input: col_name\r\n",
        "returns: preprocessed data column\r\n",
        "\"\"\"\r\n",
        "def get_clean(x):\r\n",
        "    x = str(x).lower().replace('\\\\', '').replace('_', ' ')\r\n",
        "    x = ps.cont_exp(x)\r\n",
        "    x = ps.remove_emails(x)\r\n",
        "    x = ps.remove_urls(x)\r\n",
        "    x = ps.remove_html_tags(x)\r\n",
        "    x = ps.remove_accented_chars(x)\r\n",
        "    x = ps.remove_special_chars(x)\r\n",
        "    x = re.sub(\"(.)\\\\1{2,}\", \"\\\\1\", x)\r\n",
        "    return x"
      ],
      "execution_count": null,
      "outputs": []
    },
    {
      "cell_type": "code",
      "metadata": {
        "id": "g6zZzN_THEqv"
      },
      "source": [
        "data['content(mail body)'] = data['content(mail body)'].apply(lambda x: get_clean(x))"
      ],
      "execution_count": null,
      "outputs": []
    },
    {
      "cell_type": "code",
      "metadata": {
        "id": "BfxeSzgfHmC3"
      },
      "source": [
        "data['header_subject'] = data['header_subject'].apply(lambda x: get_clean(x))"
      ],
      "execution_count": null,
      "outputs": []
    },
    {
      "cell_type": "code",
      "metadata": {
        "colab": {
          "base_uri": "https://localhost:8080/",
          "height": 289
        },
        "id": "Tf8K7K7iHVeh",
        "outputId": "9963aec8-be8a-4b4b-ef7e-7547d5193c34"
      },
      "source": [
        "data.head()"
      ],
      "execution_count": null,
      "outputs": [
        {
          "output_type": "execute_result",
          "data": {
            "text/html": [
              "<div>\n",
              "<style scoped>\n",
              "    .dataframe tbody tr th:only-of-type {\n",
              "        vertical-align: middle;\n",
              "    }\n",
              "\n",
              "    .dataframe tbody tr th {\n",
              "        vertical-align: top;\n",
              "    }\n",
              "\n",
              "    .dataframe thead th {\n",
              "        text-align: right;\n",
              "    }\n",
              "</style>\n",
              "<table border=\"1\" class=\"dataframe\">\n",
              "  <thead>\n",
              "    <tr style=\"text-align: right;\">\n",
              "      <th></th>\n",
              "      <th>content(mail body)</th>\n",
              "      <th>if_reply(yes/no)</th>\n",
              "      <th>reply_count</th>\n",
              "      <th>if_forward(yes/no)</th>\n",
              "      <th>forward_count</th>\n",
              "      <th>header_subject</th>\n",
              "      <th>attachment_counts</th>\n",
              "      <th>recepient_counts</th>\n",
              "    </tr>\n",
              "  </thead>\n",
              "  <tbody>\n",
              "    <tr>\n",
              "      <th>0</th>\n",
              "      <td>sara smud gave you version isda agreement 6 we...</td>\n",
              "      <td>no</td>\n",
              "      <td>0</td>\n",
              "      <td>no</td>\n",
              "      <td>0</td>\n",
              "      <td>sm</td>\n",
              "      <td>0</td>\n",
              "      <td>0</td>\n",
              "    </tr>\n",
              "    <tr>\n",
              "      <th>1</th>\n",
              "      <td>gary hickersonhouect john greenelonect michael...</td>\n",
              "      <td>yes</td>\n",
              "      <td>1</td>\n",
              "      <td>yes</td>\n",
              "      <td>1</td>\n",
              "      <td>authorized signers</td>\n",
              "      <td>0</td>\n",
              "      <td>5</td>\n",
              "    </tr>\n",
              "    <tr>\n",
              "      <th>2</th>\n",
              "      <td>sara it agreed ena ectric cp referred way nova...</td>\n",
              "      <td>yes</td>\n",
              "      <td>1</td>\n",
              "      <td>no</td>\n",
              "      <td>0</td>\n",
              "      <td>isda master agreements</td>\n",
              "      <td>0</td>\n",
              "      <td>0</td>\n",
              "    </tr>\n",
              "    <tr>\n",
              "      <th>3</th>\n",
              "      <td>abba gana mustapha abbaganam susan please find...</td>\n",
              "      <td>yes</td>\n",
              "      <td>1</td>\n",
              "      <td>no</td>\n",
              "      <td>0</td>\n",
              "      <td>from mega consent assignment</td>\n",
              "      <td>0</td>\n",
              "      <td>1</td>\n",
              "    </tr>\n",
              "    <tr>\n",
              "      <th>4</th>\n",
              "      <td>in connection enrons pats offering attaching c...</td>\n",
              "      <td>no</td>\n",
              "      <td>0</td>\n",
              "      <td>yes</td>\n",
              "      <td>2</td>\n",
              "      <td>enron pats 201</td>\n",
              "      <td>9</td>\n",
              "      <td>0</td>\n",
              "    </tr>\n",
              "  </tbody>\n",
              "</table>\n",
              "</div>"
            ],
            "text/plain": [
              "                                  content(mail body)  ... recepient_counts\n",
              "0  sara smud gave you version isda agreement 6 we...  ...                0\n",
              "1  gary hickersonhouect john greenelonect michael...  ...                5\n",
              "2  sara it agreed ena ectric cp referred way nova...  ...                0\n",
              "3  abba gana mustapha abbaganam susan please find...  ...                1\n",
              "4  in connection enrons pats offering attaching c...  ...                0\n",
              "\n",
              "[5 rows x 8 columns]"
            ]
          },
          "metadata": {
            "tags": []
          },
          "execution_count": 235
        }
      ]
    },
    {
      "cell_type": "markdown",
      "metadata": {
        "id": "_LP9yzJl98m9"
      },
      "source": [
        "# 4. Feature Engineering"
      ]
    },
    {
      "cell_type": "markdown",
      "metadata": {
        "id": "AL2xRsMCPYz7"
      },
      "source": [
        "FEATURE ENGINEERING : [Feature Engineering has been done in order to extract features from existing features after going this research papaer.](https://https://cseweb.ucsd.edu/classes/fa17/cse291-b/reading/sigir17a_email.pdf)\r\n",
        "\r\n",
        "According the research paper, some of the features which contributed the most (in addition to the above present) to email reply prediction are: (in decreasing order of importance) \r\n",
        "\r\n",
        "\r\n",
        "\r\n",
        "1.   EmailSubjectLen\r\n",
        "2.   NumOfReceivers\r\n",
        "3.   EmailBodyLen\r\n",
        "4.   UserJobTitleSender \r\n",
        "5.   NumofAttachment\r\n",
        "\r\n",
        "Feature 2 and Feature 5 has been added as recepient_count and attachment_count at the time of extracting the data from text file respectively.\r\n",
        "\r\n",
        "We will create two more features which are Feature 1 & Feature 3. Therefore I've created 4 features extra but I've used only two features for modelling as I wanted to increase the no. of features one by one.\r\n",
        "\r\n",
        "but I have used:\r\n",
        "\r\n",
        "1. EmailSubjectLen as content_mail_body_len\r\n",
        "2. EmailBodyLen as header_subject_len\r\n",
        "\r\n",
        "**Also, I have used BERT embeddings for the header subject and content of mail body as features.**\r\n",
        "\r\n",
        "We can try other embedding likes word2vec, Glove, doc2vec but BERT is state of the art of the model that's why decided to go ahead with that only.\r\n",
        "\r\n",
        "\r\n",
        "\r\n",
        "\r\n",
        "\r\n",
        "\r\n",
        "\r\n",
        "\r\n",
        "\r\n",
        "\r\n",
        "\r\n",
        "\r\n"
      ]
    },
    {
      "cell_type": "code",
      "metadata": {
        "id": "u8Bb4FOlH5HQ"
      },
      "source": [
        "#FEATURE ENGINEERING"
      ],
      "execution_count": null,
      "outputs": []
    },
    {
      "cell_type": "code",
      "metadata": {
        "id": "sVdnY_ekTJW5"
      },
      "source": [
        "# extracts header subject length for a row in dataframe\r\n",
        "def header_subject_len(x):\r\n",
        "  xlist = x.split() \r\n",
        "  return sum(1 for x in xlist)\r\n"
      ],
      "execution_count": null,
      "outputs": []
    },
    {
      "cell_type": "code",
      "metadata": {
        "id": "zHJZixSUXoGA"
      },
      "source": [
        "# extracts mail body length for a row in dataframe\r\n",
        "def content_mail_body_len(x):\r\n",
        "  ylist = x.split()\r\n",
        "  return sum(1 for x in ylist)"
      ],
      "execution_count": null,
      "outputs": []
    },
    {
      "cell_type": "code",
      "metadata": {
        "id": "Y8v5IEugUKw7"
      },
      "source": [
        "data['header_subject_len'] = data['header_subject'].apply(lambda x:header_subject_len(x))"
      ],
      "execution_count": null,
      "outputs": []
    },
    {
      "cell_type": "code",
      "metadata": {
        "id": "zABHmhhzYo_R"
      },
      "source": [
        "data['content_mail_body_len'] = data['content(mail body)'].apply(lambda x:content_mail_body_len(x))"
      ],
      "execution_count": null,
      "outputs": []
    },
    {
      "cell_type": "code",
      "metadata": {
        "id": "qtdjVco4ZV7b"
      },
      "source": [
        "#modelling without engineered features such as recepient_count and attachment_count"
      ],
      "execution_count": null,
      "outputs": []
    },
    {
      "cell_type": "code",
      "metadata": {
        "id": "85o9KjwPXc7V"
      },
      "source": [
        "data = data[['content(mail body)', 'if_reply(yes/no)', 'reply_count',\r\n",
        "       'if_forward(yes/no)', 'forward_count', 'header_subject', 'header_subject_len',\r\n",
        "       'content_mail_body_len']]"
      ],
      "execution_count": null,
      "outputs": []
    },
    {
      "cell_type": "code",
      "metadata": {
        "colab": {
          "base_uri": "https://localhost:8080/",
          "height": 289
        },
        "id": "t3_JEB4jTwTh",
        "outputId": "d28f677c-6d12-4e80-d061-05e140f7f8b1"
      },
      "source": [
        "data.head()"
      ],
      "execution_count": null,
      "outputs": [
        {
          "output_type": "execute_result",
          "data": {
            "text/html": [
              "<div>\n",
              "<style scoped>\n",
              "    .dataframe tbody tr th:only-of-type {\n",
              "        vertical-align: middle;\n",
              "    }\n",
              "\n",
              "    .dataframe tbody tr th {\n",
              "        vertical-align: top;\n",
              "    }\n",
              "\n",
              "    .dataframe thead th {\n",
              "        text-align: right;\n",
              "    }\n",
              "</style>\n",
              "<table border=\"1\" class=\"dataframe\">\n",
              "  <thead>\n",
              "    <tr style=\"text-align: right;\">\n",
              "      <th></th>\n",
              "      <th>content(mail body)</th>\n",
              "      <th>if_reply(yes/no)</th>\n",
              "      <th>reply_count</th>\n",
              "      <th>if_forward(yes/no)</th>\n",
              "      <th>forward_count</th>\n",
              "      <th>header_subject</th>\n",
              "      <th>header_subject_len</th>\n",
              "      <th>content_mail_body_len</th>\n",
              "    </tr>\n",
              "  </thead>\n",
              "  <tbody>\n",
              "    <tr>\n",
              "      <th>0</th>\n",
              "      <td>sara smud gave you version isda agreement 6 we...</td>\n",
              "      <td>no</td>\n",
              "      <td>0</td>\n",
              "      <td>no</td>\n",
              "      <td>0</td>\n",
              "      <td>sm</td>\n",
              "      <td>1</td>\n",
              "      <td>49</td>\n",
              "    </tr>\n",
              "    <tr>\n",
              "      <th>1</th>\n",
              "      <td>gary hickersonhouect john greenelonect michael...</td>\n",
              "      <td>yes</td>\n",
              "      <td>1</td>\n",
              "      <td>yes</td>\n",
              "      <td>1</td>\n",
              "      <td>authorized signers</td>\n",
              "      <td>2</td>\n",
              "      <td>52</td>\n",
              "    </tr>\n",
              "    <tr>\n",
              "      <th>2</th>\n",
              "      <td>sara it agreed ena ectric cp referred way nova...</td>\n",
              "      <td>yes</td>\n",
              "      <td>1</td>\n",
              "      <td>no</td>\n",
              "      <td>0</td>\n",
              "      <td>isda master agreements</td>\n",
              "      <td>3</td>\n",
              "      <td>23</td>\n",
              "    </tr>\n",
              "    <tr>\n",
              "      <th>3</th>\n",
              "      <td>abba gana mustapha abbaganam susan please find...</td>\n",
              "      <td>yes</td>\n",
              "      <td>1</td>\n",
              "      <td>no</td>\n",
              "      <td>0</td>\n",
              "      <td>from mega consent assignment</td>\n",
              "      <td>4</td>\n",
              "      <td>102</td>\n",
              "    </tr>\n",
              "    <tr>\n",
              "      <th>4</th>\n",
              "      <td>in connection enrons pats offering attaching c...</td>\n",
              "      <td>no</td>\n",
              "      <td>0</td>\n",
              "      <td>yes</td>\n",
              "      <td>2</td>\n",
              "      <td>enron pats 201</td>\n",
              "      <td>3</td>\n",
              "      <td>144</td>\n",
              "    </tr>\n",
              "  </tbody>\n",
              "</table>\n",
              "</div>"
            ],
            "text/plain": [
              "                                  content(mail body)  ... content_mail_body_len\n",
              "0  sara smud gave you version isda agreement 6 we...  ...                    49\n",
              "1  gary hickersonhouect john greenelonect michael...  ...                    52\n",
              "2  sara it agreed ena ectric cp referred way nova...  ...                    23\n",
              "3  abba gana mustapha abbaganam susan please find...  ...                   102\n",
              "4  in connection enrons pats offering attaching c...  ...                   144\n",
              "\n",
              "[5 rows x 8 columns]"
            ]
          },
          "metadata": {
            "tags": []
          },
          "execution_count": 243
        }
      ]
    },
    {
      "cell_type": "code",
      "metadata": {
        "colab": {
          "base_uri": "https://localhost:8080/"
        },
        "id": "qU8UfvjkRQ-W",
        "outputId": "0ac77d2f-25d1-4993-f875-fac4dcf61ad9"
      },
      "source": [
        "data.columns"
      ],
      "execution_count": null,
      "outputs": [
        {
          "output_type": "execute_result",
          "data": {
            "text/plain": [
              "Index(['content(mail body)', 'if_reply(yes/no)', 'reply_count',\n",
              "       'if_forward(yes/no)', 'forward_count', 'header_subject',\n",
              "       'header_subject_len', 'content_mail_body_len'],\n",
              "      dtype='object')"
            ]
          },
          "metadata": {
            "tags": []
          },
          "execution_count": 244
        }
      ]
    },
    {
      "cell_type": "code",
      "metadata": {
        "colab": {
          "base_uri": "https://localhost:8080/"
        },
        "id": "39sweZ30YyOH",
        "outputId": "e2a73c6b-540f-4929-a99e-07fc05de234c"
      },
      "source": [
        "len(data)"
      ],
      "execution_count": null,
      "outputs": [
        {
          "output_type": "execute_result",
          "data": {
            "text/plain": [
              "2999"
            ]
          },
          "metadata": {
            "tags": []
          },
          "execution_count": 245
        }
      ]
    },
    {
      "cell_type": "markdown",
      "metadata": {
        "id": "fMyIdqYu-SK7"
      },
      "source": [
        "Now, we need to extract features from the content and subject text data. We will be using BERT embeddings for it."
      ]
    },
    {
      "cell_type": "markdown",
      "metadata": {
        "id": "Y9Ou5Y3x3K9G"
      },
      "source": [
        "## 5. Modelling"
      ]
    },
    {
      "cell_type": "code",
      "metadata": {
        "id": "pDhoF3CRQ2Rv"
      },
      "source": [
        "import pandas as pd\r\n",
        "import numpy as np\r\n",
        "import pickle as pkl\r\n",
        "from sklearn.model_selection import train_test_split\r\n",
        "from sklearn.metrics import f1_score"
      ],
      "execution_count": null,
      "outputs": []
    },
    {
      "cell_type": "code",
      "metadata": {
        "colab": {
          "base_uri": "https://localhost:8080/"
        },
        "id": "-w2-_hv8_GEW",
        "outputId": "2db8f5f8-5337-4ac3-c7eb-eb6cac18724f"
      },
      "source": [
        "# checking missing values\n",
        "data.isna().sum()"
      ],
      "execution_count": null,
      "outputs": [
        {
          "output_type": "execute_result",
          "data": {
            "text/plain": [
              "content(mail body)       0\n",
              "if_reply(yes/no)         0\n",
              "reply_count              0\n",
              "if_forward(yes/no)       0\n",
              "forward_count            0\n",
              "header_subject           0\n",
              "header_subject_len       0\n",
              "content_mail_body_len    0\n",
              "dtype: int64"
            ]
          },
          "metadata": {
            "tags": []
          },
          "execution_count": 247
        }
      ]
    },
    {
      "cell_type": "code",
      "metadata": {
        "id": "cI-tlSAJADXN"
      },
      "source": [
        "text_data = '[CLS] '+data['header_subject']+'[SEP]'+data['content(mail body)'] #appending special tags for tokens in BERT for input"
      ],
      "execution_count": null,
      "outputs": []
    },
    {
      "cell_type": "code",
      "metadata": {
        "colab": {
          "base_uri": "https://localhost:8080/"
        },
        "id": "cmp0BdKzAO5N",
        "outputId": "489e1d6c-f596-4dfb-e704-94d950914c98"
      },
      "source": [
        "text_data"
      ],
      "execution_count": null,
      "outputs": [
        {
          "output_type": "execute_result",
          "data": {
            "text/plain": [
              "0       [CLS] sm[SEP]sara smud gave you version isda a...\n",
              "1       [CLS] authorized signers[SEP]gary hickersonhou...\n",
              "2       [CLS] isda master agreements[SEP]sara it agree...\n",
              "3       [CLS] from mega consent assignment[SEP]abba ga...\n",
              "4       [CLS] enron pats 201[SEP]in connection enrons ...\n",
              "                              ...                        \n",
              "2994                                        [CLS] re[SEP]\n",
              "2995    [CLS] re imbalance trade cng[SEP]pricehouect d...\n",
              "2996    [CLS] re meeting[SEP]to chris germanyhouect su...\n",
              "2997    [CLS] capacity releases[SEP]scott nealhouect d...\n",
              "2998    [CLS] re devonian resources[SEP]i believe mete...\n",
              "Length: 2999, dtype: object"
            ]
          },
          "metadata": {
            "tags": []
          },
          "execution_count": 249
        }
      ]
    },
    {
      "cell_type": "code",
      "metadata": {
        "id": "2gzNwEHEAO3l"
      },
      "source": [
        "text_list = list(text_data)"
      ],
      "execution_count": null,
      "outputs": []
    },
    {
      "cell_type": "code",
      "metadata": {
        "colab": {
          "base_uri": "https://localhost:8080/",
          "height": 52
        },
        "id": "KOYznnixAOy_",
        "outputId": "a9c85089-2943-48ac-9286-c3ae9baf8c0c"
      },
      "source": [
        "# Extracting Embeddings from BERT\n",
        "# Used BERT as a service to extract embeddings \n",
        "\"\"\"\n",
        "from bert_serving.client import BertClient\n",
        "bc = BertClient()\n",
        "embed_matrix = bc.encode(text_list)\n",
        "\n",
        "with open('embed_matrix.npy', 'wb') as f:\n",
        "    np.save(f, embed_matrix)\n",
        "\"\"\""
      ],
      "execution_count": null,
      "outputs": [
        {
          "output_type": "execute_result",
          "data": {
            "application/vnd.google.colaboratory.intrinsic+json": {
              "type": "string"
            },
            "text/plain": [
              "\"\\nfrom bert_serving.client import BertClient\\nbc = BertClient()\\nembed_matrix = bc.encode(text_list)\\n\\nwith open('embed_matrix.npy', 'wb') as f:\\n    np.save(f, embed_matrix)\\n\""
            ]
          },
          "metadata": {
            "tags": []
          },
          "execution_count": 251
        }
      ]
    },
    {
      "cell_type": "code",
      "metadata": {
        "id": "HxGVx3_pAOwd"
      },
      "source": [
        "# Using saved extracted BERT embeddings \n",
        "embed_matrix = np.load('/content/drive/MyDrive/Bugendaitech/embed_matrix.npy')"
      ],
      "execution_count": null,
      "outputs": []
    },
    {
      "cell_type": "code",
      "metadata": {
        "colab": {
          "base_uri": "https://localhost:8080/"
        },
        "id": "2NL2t5QRAOuL",
        "outputId": "740dc139-d91a-4e35-a69c-9e0df957c076"
      },
      "source": [
        "print(\"No. of mail instances:\",embed_matrix.shape[0])\n",
        "print(\"Dimension of a single embedding:\",embed_matrix.shape[1])"
      ],
      "execution_count": null,
      "outputs": [
        {
          "output_type": "stream",
          "text": [
            "No. of mail instances: 2999\n",
            "Dimension of a single embedding: 768\n"
          ],
          "name": "stdout"
        }
      ]
    },
    {
      "cell_type": "code",
      "metadata": {
        "colab": {
          "base_uri": "https://localhost:8080/",
          "height": 253
        },
        "id": "djs5oqTeAOrB",
        "outputId": "779d1b46-78d5-4f5e-9102-4b29cc0d5fe3"
      },
      "source": [
        "df = pd.DataFrame(embed_matrix) # text embeddings as dataframe\n",
        "df = pd.concat([df, data], axis = 1) # Concatenating text embeddings with rest of data\n",
        "Xdata = df.drop(columns= ['if_reply(yes/no)','content(mail body)', 'header_subject']) #removing repeated columns\n",
        "Xdata.head()"
      ],
      "execution_count": null,
      "outputs": [
        {
          "output_type": "execute_result",
          "data": {
            "text/html": [
              "<div>\n",
              "<style scoped>\n",
              "    .dataframe tbody tr th:only-of-type {\n",
              "        vertical-align: middle;\n",
              "    }\n",
              "\n",
              "    .dataframe tbody tr th {\n",
              "        vertical-align: top;\n",
              "    }\n",
              "\n",
              "    .dataframe thead th {\n",
              "        text-align: right;\n",
              "    }\n",
              "</style>\n",
              "<table border=\"1\" class=\"dataframe\">\n",
              "  <thead>\n",
              "    <tr style=\"text-align: right;\">\n",
              "      <th></th>\n",
              "      <th>0</th>\n",
              "      <th>1</th>\n",
              "      <th>2</th>\n",
              "      <th>3</th>\n",
              "      <th>4</th>\n",
              "      <th>5</th>\n",
              "      <th>6</th>\n",
              "      <th>7</th>\n",
              "      <th>8</th>\n",
              "      <th>9</th>\n",
              "      <th>10</th>\n",
              "      <th>11</th>\n",
              "      <th>12</th>\n",
              "      <th>13</th>\n",
              "      <th>14</th>\n",
              "      <th>15</th>\n",
              "      <th>16</th>\n",
              "      <th>17</th>\n",
              "      <th>18</th>\n",
              "      <th>19</th>\n",
              "      <th>20</th>\n",
              "      <th>21</th>\n",
              "      <th>22</th>\n",
              "      <th>23</th>\n",
              "      <th>24</th>\n",
              "      <th>25</th>\n",
              "      <th>26</th>\n",
              "      <th>27</th>\n",
              "      <th>28</th>\n",
              "      <th>29</th>\n",
              "      <th>30</th>\n",
              "      <th>31</th>\n",
              "      <th>32</th>\n",
              "      <th>33</th>\n",
              "      <th>34</th>\n",
              "      <th>35</th>\n",
              "      <th>36</th>\n",
              "      <th>37</th>\n",
              "      <th>38</th>\n",
              "      <th>39</th>\n",
              "      <th>...</th>\n",
              "      <th>733</th>\n",
              "      <th>734</th>\n",
              "      <th>735</th>\n",
              "      <th>736</th>\n",
              "      <th>737</th>\n",
              "      <th>738</th>\n",
              "      <th>739</th>\n",
              "      <th>740</th>\n",
              "      <th>741</th>\n",
              "      <th>742</th>\n",
              "      <th>743</th>\n",
              "      <th>744</th>\n",
              "      <th>745</th>\n",
              "      <th>746</th>\n",
              "      <th>747</th>\n",
              "      <th>748</th>\n",
              "      <th>749</th>\n",
              "      <th>750</th>\n",
              "      <th>751</th>\n",
              "      <th>752</th>\n",
              "      <th>753</th>\n",
              "      <th>754</th>\n",
              "      <th>755</th>\n",
              "      <th>756</th>\n",
              "      <th>757</th>\n",
              "      <th>758</th>\n",
              "      <th>759</th>\n",
              "      <th>760</th>\n",
              "      <th>761</th>\n",
              "      <th>762</th>\n",
              "      <th>763</th>\n",
              "      <th>764</th>\n",
              "      <th>765</th>\n",
              "      <th>766</th>\n",
              "      <th>767</th>\n",
              "      <th>reply_count</th>\n",
              "      <th>if_forward(yes/no)</th>\n",
              "      <th>forward_count</th>\n",
              "      <th>header_subject_len</th>\n",
              "      <th>content_mail_body_len</th>\n",
              "    </tr>\n",
              "  </thead>\n",
              "  <tbody>\n",
              "    <tr>\n",
              "      <th>0</th>\n",
              "      <td>-0.061652</td>\n",
              "      <td>-0.301240</td>\n",
              "      <td>0.988962</td>\n",
              "      <td>-0.509645</td>\n",
              "      <td>0.307886</td>\n",
              "      <td>-0.345592</td>\n",
              "      <td>0.100001</td>\n",
              "      <td>0.150530</td>\n",
              "      <td>-0.077637</td>\n",
              "      <td>-0.006422</td>\n",
              "      <td>0.274483</td>\n",
              "      <td>-0.254729</td>\n",
              "      <td>0.409971</td>\n",
              "      <td>0.274903</td>\n",
              "      <td>-0.482126</td>\n",
              "      <td>0.512525</td>\n",
              "      <td>0.313160</td>\n",
              "      <td>0.079097</td>\n",
              "      <td>-0.044677</td>\n",
              "      <td>0.211474</td>\n",
              "      <td>0.464835</td>\n",
              "      <td>0.123519</td>\n",
              "      <td>0.038805</td>\n",
              "      <td>-0.343659</td>\n",
              "      <td>-0.053606</td>\n",
              "      <td>0.069053</td>\n",
              "      <td>-0.279016</td>\n",
              "      <td>-0.306080</td>\n",
              "      <td>-0.429232</td>\n",
              "      <td>0.235972</td>\n",
              "      <td>0.271214</td>\n",
              "      <td>-0.010696</td>\n",
              "      <td>-0.254816</td>\n",
              "      <td>-0.422443</td>\n",
              "      <td>-0.313558</td>\n",
              "      <td>-0.129044</td>\n",
              "      <td>0.230748</td>\n",
              "      <td>0.594568</td>\n",
              "      <td>-0.115863</td>\n",
              "      <td>0.634683</td>\n",
              "      <td>...</td>\n",
              "      <td>-0.512087</td>\n",
              "      <td>-0.181524</td>\n",
              "      <td>0.086833</td>\n",
              "      <td>-0.038490</td>\n",
              "      <td>-0.275124</td>\n",
              "      <td>0.252091</td>\n",
              "      <td>0.336690</td>\n",
              "      <td>0.700430</td>\n",
              "      <td>-0.275691</td>\n",
              "      <td>-0.331005</td>\n",
              "      <td>-0.096895</td>\n",
              "      <td>-0.554076</td>\n",
              "      <td>-0.074712</td>\n",
              "      <td>-0.045809</td>\n",
              "      <td>0.199183</td>\n",
              "      <td>0.211189</td>\n",
              "      <td>0.239399</td>\n",
              "      <td>-0.373822</td>\n",
              "      <td>-0.066665</td>\n",
              "      <td>-0.032674</td>\n",
              "      <td>-0.059337</td>\n",
              "      <td>0.304323</td>\n",
              "      <td>-0.234559</td>\n",
              "      <td>-0.485936</td>\n",
              "      <td>-1.022841</td>\n",
              "      <td>-0.524635</td>\n",
              "      <td>-0.349269</td>\n",
              "      <td>-0.109370</td>\n",
              "      <td>-0.168632</td>\n",
              "      <td>-0.340974</td>\n",
              "      <td>0.205476</td>\n",
              "      <td>-0.359956</td>\n",
              "      <td>-0.687200</td>\n",
              "      <td>0.035915</td>\n",
              "      <td>-0.047075</td>\n",
              "      <td>0</td>\n",
              "      <td>no</td>\n",
              "      <td>0</td>\n",
              "      <td>1</td>\n",
              "      <td>49</td>\n",
              "    </tr>\n",
              "    <tr>\n",
              "      <th>1</th>\n",
              "      <td>-0.119618</td>\n",
              "      <td>0.233673</td>\n",
              "      <td>0.388971</td>\n",
              "      <td>-0.284565</td>\n",
              "      <td>0.366891</td>\n",
              "      <td>-0.263530</td>\n",
              "      <td>-0.156496</td>\n",
              "      <td>-0.175474</td>\n",
              "      <td>0.010741</td>\n",
              "      <td>-0.221121</td>\n",
              "      <td>0.029777</td>\n",
              "      <td>0.037707</td>\n",
              "      <td>-0.043904</td>\n",
              "      <td>0.203864</td>\n",
              "      <td>-0.127190</td>\n",
              "      <td>0.904664</td>\n",
              "      <td>-0.001759</td>\n",
              "      <td>-0.056294</td>\n",
              "      <td>-0.148297</td>\n",
              "      <td>0.013065</td>\n",
              "      <td>0.098659</td>\n",
              "      <td>-0.222912</td>\n",
              "      <td>0.230160</td>\n",
              "      <td>0.085756</td>\n",
              "      <td>0.220582</td>\n",
              "      <td>0.221145</td>\n",
              "      <td>-0.243964</td>\n",
              "      <td>-0.219535</td>\n",
              "      <td>-0.426963</td>\n",
              "      <td>0.513781</td>\n",
              "      <td>0.862359</td>\n",
              "      <td>0.386674</td>\n",
              "      <td>0.068511</td>\n",
              "      <td>-0.662784</td>\n",
              "      <td>-0.336401</td>\n",
              "      <td>-0.108923</td>\n",
              "      <td>0.222039</td>\n",
              "      <td>0.322167</td>\n",
              "      <td>0.088777</td>\n",
              "      <td>0.690272</td>\n",
              "      <td>...</td>\n",
              "      <td>0.269197</td>\n",
              "      <td>-0.177714</td>\n",
              "      <td>-0.234797</td>\n",
              "      <td>0.168693</td>\n",
              "      <td>0.125758</td>\n",
              "      <td>0.293837</td>\n",
              "      <td>0.017818</td>\n",
              "      <td>-0.176463</td>\n",
              "      <td>0.245259</td>\n",
              "      <td>-0.205534</td>\n",
              "      <td>-0.377857</td>\n",
              "      <td>-0.351560</td>\n",
              "      <td>0.163702</td>\n",
              "      <td>-0.249110</td>\n",
              "      <td>0.016858</td>\n",
              "      <td>0.155448</td>\n",
              "      <td>0.451710</td>\n",
              "      <td>-0.103035</td>\n",
              "      <td>0.300852</td>\n",
              "      <td>-0.038376</td>\n",
              "      <td>0.019314</td>\n",
              "      <td>0.048110</td>\n",
              "      <td>0.003934</td>\n",
              "      <td>-0.460683</td>\n",
              "      <td>-0.319305</td>\n",
              "      <td>-0.549644</td>\n",
              "      <td>-0.009801</td>\n",
              "      <td>-0.584275</td>\n",
              "      <td>-0.248310</td>\n",
              "      <td>-0.133273</td>\n",
              "      <td>0.429948</td>\n",
              "      <td>-0.275808</td>\n",
              "      <td>-0.050797</td>\n",
              "      <td>0.024669</td>\n",
              "      <td>-0.129476</td>\n",
              "      <td>1</td>\n",
              "      <td>yes</td>\n",
              "      <td>1</td>\n",
              "      <td>2</td>\n",
              "      <td>52</td>\n",
              "    </tr>\n",
              "    <tr>\n",
              "      <th>2</th>\n",
              "      <td>0.118571</td>\n",
              "      <td>-0.239992</td>\n",
              "      <td>0.892090</td>\n",
              "      <td>-0.590311</td>\n",
              "      <td>0.244341</td>\n",
              "      <td>-0.461786</td>\n",
              "      <td>-0.424682</td>\n",
              "      <td>-0.319129</td>\n",
              "      <td>-0.050232</td>\n",
              "      <td>-0.177460</td>\n",
              "      <td>0.188866</td>\n",
              "      <td>0.144373</td>\n",
              "      <td>0.701320</td>\n",
              "      <td>0.404683</td>\n",
              "      <td>0.019416</td>\n",
              "      <td>0.599780</td>\n",
              "      <td>-0.058971</td>\n",
              "      <td>-0.200306</td>\n",
              "      <td>0.275102</td>\n",
              "      <td>-0.244152</td>\n",
              "      <td>0.352123</td>\n",
              "      <td>0.228530</td>\n",
              "      <td>-0.120158</td>\n",
              "      <td>-0.128495</td>\n",
              "      <td>0.257860</td>\n",
              "      <td>0.362371</td>\n",
              "      <td>-0.274145</td>\n",
              "      <td>-0.482561</td>\n",
              "      <td>-0.302005</td>\n",
              "      <td>0.004656</td>\n",
              "      <td>0.664816</td>\n",
              "      <td>0.270447</td>\n",
              "      <td>-0.571720</td>\n",
              "      <td>-0.580444</td>\n",
              "      <td>0.045438</td>\n",
              "      <td>-0.121917</td>\n",
              "      <td>0.219843</td>\n",
              "      <td>0.188815</td>\n",
              "      <td>-0.414748</td>\n",
              "      <td>0.365277</td>\n",
              "      <td>...</td>\n",
              "      <td>-0.394504</td>\n",
              "      <td>0.199963</td>\n",
              "      <td>0.259205</td>\n",
              "      <td>0.015664</td>\n",
              "      <td>0.468405</td>\n",
              "      <td>0.214694</td>\n",
              "      <td>0.430537</td>\n",
              "      <td>0.294235</td>\n",
              "      <td>0.243053</td>\n",
              "      <td>-0.345951</td>\n",
              "      <td>-0.121678</td>\n",
              "      <td>-0.725440</td>\n",
              "      <td>-0.132304</td>\n",
              "      <td>0.002526</td>\n",
              "      <td>0.102933</td>\n",
              "      <td>-0.036722</td>\n",
              "      <td>0.039097</td>\n",
              "      <td>-0.071635</td>\n",
              "      <td>-0.068161</td>\n",
              "      <td>-0.289076</td>\n",
              "      <td>-0.555402</td>\n",
              "      <td>-0.060344</td>\n",
              "      <td>-0.201275</td>\n",
              "      <td>-0.547013</td>\n",
              "      <td>-0.818709</td>\n",
              "      <td>-0.551684</td>\n",
              "      <td>-0.339579</td>\n",
              "      <td>-0.215057</td>\n",
              "      <td>-0.119362</td>\n",
              "      <td>-0.254128</td>\n",
              "      <td>0.095207</td>\n",
              "      <td>-0.629730</td>\n",
              "      <td>-0.455287</td>\n",
              "      <td>0.088357</td>\n",
              "      <td>0.080491</td>\n",
              "      <td>1</td>\n",
              "      <td>no</td>\n",
              "      <td>0</td>\n",
              "      <td>3</td>\n",
              "      <td>23</td>\n",
              "    </tr>\n",
              "    <tr>\n",
              "      <th>3</th>\n",
              "      <td>0.069110</td>\n",
              "      <td>0.352247</td>\n",
              "      <td>0.030482</td>\n",
              "      <td>-0.891156</td>\n",
              "      <td>0.613150</td>\n",
              "      <td>-0.256157</td>\n",
              "      <td>0.327572</td>\n",
              "      <td>-0.085017</td>\n",
              "      <td>0.081322</td>\n",
              "      <td>0.259983</td>\n",
              "      <td>0.134138</td>\n",
              "      <td>0.053425</td>\n",
              "      <td>-0.030330</td>\n",
              "      <td>0.223629</td>\n",
              "      <td>0.088144</td>\n",
              "      <td>1.000456</td>\n",
              "      <td>0.392520</td>\n",
              "      <td>0.024163</td>\n",
              "      <td>-0.121637</td>\n",
              "      <td>-0.304955</td>\n",
              "      <td>0.157775</td>\n",
              "      <td>0.084510</td>\n",
              "      <td>-0.203554</td>\n",
              "      <td>-0.368076</td>\n",
              "      <td>0.215218</td>\n",
              "      <td>0.440867</td>\n",
              "      <td>0.163690</td>\n",
              "      <td>-0.065575</td>\n",
              "      <td>-0.682051</td>\n",
              "      <td>0.119944</td>\n",
              "      <td>0.102716</td>\n",
              "      <td>0.146327</td>\n",
              "      <td>-0.154448</td>\n",
              "      <td>-0.394389</td>\n",
              "      <td>-0.293356</td>\n",
              "      <td>-0.062651</td>\n",
              "      <td>0.252492</td>\n",
              "      <td>0.162945</td>\n",
              "      <td>-0.106116</td>\n",
              "      <td>0.297655</td>\n",
              "      <td>...</td>\n",
              "      <td>0.037878</td>\n",
              "      <td>0.062055</td>\n",
              "      <td>0.355162</td>\n",
              "      <td>-0.116535</td>\n",
              "      <td>0.000099</td>\n",
              "      <td>0.664152</td>\n",
              "      <td>0.387566</td>\n",
              "      <td>0.558281</td>\n",
              "      <td>-0.167727</td>\n",
              "      <td>-0.393455</td>\n",
              "      <td>-0.224051</td>\n",
              "      <td>-0.219993</td>\n",
              "      <td>-0.122360</td>\n",
              "      <td>0.027801</td>\n",
              "      <td>-0.130450</td>\n",
              "      <td>-0.235176</td>\n",
              "      <td>-0.057766</td>\n",
              "      <td>-0.014512</td>\n",
              "      <td>0.034160</td>\n",
              "      <td>-0.207622</td>\n",
              "      <td>-0.144044</td>\n",
              "      <td>0.367071</td>\n",
              "      <td>-0.061523</td>\n",
              "      <td>-0.362517</td>\n",
              "      <td>-0.525074</td>\n",
              "      <td>-0.603688</td>\n",
              "      <td>-0.714121</td>\n",
              "      <td>0.098793</td>\n",
              "      <td>0.126863</td>\n",
              "      <td>-0.145168</td>\n",
              "      <td>0.230213</td>\n",
              "      <td>-0.557157</td>\n",
              "      <td>-0.499219</td>\n",
              "      <td>-0.156966</td>\n",
              "      <td>0.088316</td>\n",
              "      <td>1</td>\n",
              "      <td>no</td>\n",
              "      <td>0</td>\n",
              "      <td>4</td>\n",
              "      <td>102</td>\n",
              "    </tr>\n",
              "    <tr>\n",
              "      <th>4</th>\n",
              "      <td>0.085441</td>\n",
              "      <td>-0.024253</td>\n",
              "      <td>0.719638</td>\n",
              "      <td>-0.547666</td>\n",
              "      <td>0.231693</td>\n",
              "      <td>0.099816</td>\n",
              "      <td>-0.165823</td>\n",
              "      <td>0.256770</td>\n",
              "      <td>-0.016716</td>\n",
              "      <td>0.170235</td>\n",
              "      <td>-0.194906</td>\n",
              "      <td>-0.454936</td>\n",
              "      <td>0.248666</td>\n",
              "      <td>0.385948</td>\n",
              "      <td>-0.273022</td>\n",
              "      <td>0.597467</td>\n",
              "      <td>-0.161642</td>\n",
              "      <td>0.236268</td>\n",
              "      <td>-0.222633</td>\n",
              "      <td>-0.043212</td>\n",
              "      <td>0.111046</td>\n",
              "      <td>0.140017</td>\n",
              "      <td>-0.037486</td>\n",
              "      <td>-0.441277</td>\n",
              "      <td>0.614327</td>\n",
              "      <td>-0.078916</td>\n",
              "      <td>-0.117642</td>\n",
              "      <td>-0.622913</td>\n",
              "      <td>-0.434842</td>\n",
              "      <td>0.208062</td>\n",
              "      <td>0.879462</td>\n",
              "      <td>0.211798</td>\n",
              "      <td>0.091427</td>\n",
              "      <td>-0.524002</td>\n",
              "      <td>-0.003602</td>\n",
              "      <td>-0.490857</td>\n",
              "      <td>0.239493</td>\n",
              "      <td>-0.157967</td>\n",
              "      <td>0.206943</td>\n",
              "      <td>0.463441</td>\n",
              "      <td>...</td>\n",
              "      <td>-0.570396</td>\n",
              "      <td>0.246796</td>\n",
              "      <td>0.236969</td>\n",
              "      <td>0.350109</td>\n",
              "      <td>0.104056</td>\n",
              "      <td>0.065443</td>\n",
              "      <td>0.427428</td>\n",
              "      <td>0.168489</td>\n",
              "      <td>0.226285</td>\n",
              "      <td>-0.389619</td>\n",
              "      <td>-0.445411</td>\n",
              "      <td>-0.663465</td>\n",
              "      <td>-0.254567</td>\n",
              "      <td>-0.026373</td>\n",
              "      <td>0.400284</td>\n",
              "      <td>-0.108943</td>\n",
              "      <td>0.257606</td>\n",
              "      <td>0.461664</td>\n",
              "      <td>0.114192</td>\n",
              "      <td>-0.157840</td>\n",
              "      <td>0.175875</td>\n",
              "      <td>0.200491</td>\n",
              "      <td>-0.454045</td>\n",
              "      <td>-0.582636</td>\n",
              "      <td>-0.556065</td>\n",
              "      <td>-0.537432</td>\n",
              "      <td>-0.363988</td>\n",
              "      <td>-0.212688</td>\n",
              "      <td>0.251206</td>\n",
              "      <td>0.487547</td>\n",
              "      <td>0.192735</td>\n",
              "      <td>-0.506431</td>\n",
              "      <td>-0.487639</td>\n",
              "      <td>-0.111139</td>\n",
              "      <td>-0.030190</td>\n",
              "      <td>0</td>\n",
              "      <td>yes</td>\n",
              "      <td>2</td>\n",
              "      <td>3</td>\n",
              "      <td>144</td>\n",
              "    </tr>\n",
              "  </tbody>\n",
              "</table>\n",
              "<p>5 rows × 773 columns</p>\n",
              "</div>"
            ],
            "text/plain": [
              "          0         1  ...  header_subject_len  content_mail_body_len\n",
              "0 -0.061652 -0.301240  ...                   1                     49\n",
              "1 -0.119618  0.233673  ...                   2                     52\n",
              "2  0.118571 -0.239992  ...                   3                     23\n",
              "3  0.069110  0.352247  ...                   4                    102\n",
              "4  0.085441 -0.024253  ...                   3                    144\n",
              "\n",
              "[5 rows x 773 columns]"
            ]
          },
          "metadata": {
            "tags": []
          },
          "execution_count": 254
        }
      ]
    },
    {
      "cell_type": "code",
      "metadata": {
        "id": "HCuXZuFDAOoR"
      },
      "source": [
        "# Label encoding for categorical variable\n",
        "\n",
        "from sklearn import preprocessing\n",
        "le = preprocessing.LabelEncoder()\n",
        "\n",
        "Xdata['if_forward(yes/no)'] = le.fit_transform(Xdata['if_forward(yes/no)'])"
      ],
      "execution_count": null,
      "outputs": []
    },
    {
      "cell_type": "code",
      "metadata": {
        "colab": {
          "base_uri": "https://localhost:8080/",
          "height": 253
        },
        "id": "SUCTyNt5AOlW",
        "outputId": "e2a5a82c-65b9-4b53-f412-25becf93ed5a"
      },
      "source": [
        "Xdata.head()"
      ],
      "execution_count": null,
      "outputs": [
        {
          "output_type": "execute_result",
          "data": {
            "text/html": [
              "<div>\n",
              "<style scoped>\n",
              "    .dataframe tbody tr th:only-of-type {\n",
              "        vertical-align: middle;\n",
              "    }\n",
              "\n",
              "    .dataframe tbody tr th {\n",
              "        vertical-align: top;\n",
              "    }\n",
              "\n",
              "    .dataframe thead th {\n",
              "        text-align: right;\n",
              "    }\n",
              "</style>\n",
              "<table border=\"1\" class=\"dataframe\">\n",
              "  <thead>\n",
              "    <tr style=\"text-align: right;\">\n",
              "      <th></th>\n",
              "      <th>0</th>\n",
              "      <th>1</th>\n",
              "      <th>2</th>\n",
              "      <th>3</th>\n",
              "      <th>4</th>\n",
              "      <th>5</th>\n",
              "      <th>6</th>\n",
              "      <th>7</th>\n",
              "      <th>8</th>\n",
              "      <th>9</th>\n",
              "      <th>10</th>\n",
              "      <th>11</th>\n",
              "      <th>12</th>\n",
              "      <th>13</th>\n",
              "      <th>14</th>\n",
              "      <th>15</th>\n",
              "      <th>16</th>\n",
              "      <th>17</th>\n",
              "      <th>18</th>\n",
              "      <th>19</th>\n",
              "      <th>20</th>\n",
              "      <th>21</th>\n",
              "      <th>22</th>\n",
              "      <th>23</th>\n",
              "      <th>24</th>\n",
              "      <th>25</th>\n",
              "      <th>26</th>\n",
              "      <th>27</th>\n",
              "      <th>28</th>\n",
              "      <th>29</th>\n",
              "      <th>30</th>\n",
              "      <th>31</th>\n",
              "      <th>32</th>\n",
              "      <th>33</th>\n",
              "      <th>34</th>\n",
              "      <th>35</th>\n",
              "      <th>36</th>\n",
              "      <th>37</th>\n",
              "      <th>38</th>\n",
              "      <th>39</th>\n",
              "      <th>...</th>\n",
              "      <th>733</th>\n",
              "      <th>734</th>\n",
              "      <th>735</th>\n",
              "      <th>736</th>\n",
              "      <th>737</th>\n",
              "      <th>738</th>\n",
              "      <th>739</th>\n",
              "      <th>740</th>\n",
              "      <th>741</th>\n",
              "      <th>742</th>\n",
              "      <th>743</th>\n",
              "      <th>744</th>\n",
              "      <th>745</th>\n",
              "      <th>746</th>\n",
              "      <th>747</th>\n",
              "      <th>748</th>\n",
              "      <th>749</th>\n",
              "      <th>750</th>\n",
              "      <th>751</th>\n",
              "      <th>752</th>\n",
              "      <th>753</th>\n",
              "      <th>754</th>\n",
              "      <th>755</th>\n",
              "      <th>756</th>\n",
              "      <th>757</th>\n",
              "      <th>758</th>\n",
              "      <th>759</th>\n",
              "      <th>760</th>\n",
              "      <th>761</th>\n",
              "      <th>762</th>\n",
              "      <th>763</th>\n",
              "      <th>764</th>\n",
              "      <th>765</th>\n",
              "      <th>766</th>\n",
              "      <th>767</th>\n",
              "      <th>reply_count</th>\n",
              "      <th>if_forward(yes/no)</th>\n",
              "      <th>forward_count</th>\n",
              "      <th>header_subject_len</th>\n",
              "      <th>content_mail_body_len</th>\n",
              "    </tr>\n",
              "  </thead>\n",
              "  <tbody>\n",
              "    <tr>\n",
              "      <th>0</th>\n",
              "      <td>-0.061652</td>\n",
              "      <td>-0.301240</td>\n",
              "      <td>0.988962</td>\n",
              "      <td>-0.509645</td>\n",
              "      <td>0.307886</td>\n",
              "      <td>-0.345592</td>\n",
              "      <td>0.100001</td>\n",
              "      <td>0.150530</td>\n",
              "      <td>-0.077637</td>\n",
              "      <td>-0.006422</td>\n",
              "      <td>0.274483</td>\n",
              "      <td>-0.254729</td>\n",
              "      <td>0.409971</td>\n",
              "      <td>0.274903</td>\n",
              "      <td>-0.482126</td>\n",
              "      <td>0.512525</td>\n",
              "      <td>0.313160</td>\n",
              "      <td>0.079097</td>\n",
              "      <td>-0.044677</td>\n",
              "      <td>0.211474</td>\n",
              "      <td>0.464835</td>\n",
              "      <td>0.123519</td>\n",
              "      <td>0.038805</td>\n",
              "      <td>-0.343659</td>\n",
              "      <td>-0.053606</td>\n",
              "      <td>0.069053</td>\n",
              "      <td>-0.279016</td>\n",
              "      <td>-0.306080</td>\n",
              "      <td>-0.429232</td>\n",
              "      <td>0.235972</td>\n",
              "      <td>0.271214</td>\n",
              "      <td>-0.010696</td>\n",
              "      <td>-0.254816</td>\n",
              "      <td>-0.422443</td>\n",
              "      <td>-0.313558</td>\n",
              "      <td>-0.129044</td>\n",
              "      <td>0.230748</td>\n",
              "      <td>0.594568</td>\n",
              "      <td>-0.115863</td>\n",
              "      <td>0.634683</td>\n",
              "      <td>...</td>\n",
              "      <td>-0.512087</td>\n",
              "      <td>-0.181524</td>\n",
              "      <td>0.086833</td>\n",
              "      <td>-0.038490</td>\n",
              "      <td>-0.275124</td>\n",
              "      <td>0.252091</td>\n",
              "      <td>0.336690</td>\n",
              "      <td>0.700430</td>\n",
              "      <td>-0.275691</td>\n",
              "      <td>-0.331005</td>\n",
              "      <td>-0.096895</td>\n",
              "      <td>-0.554076</td>\n",
              "      <td>-0.074712</td>\n",
              "      <td>-0.045809</td>\n",
              "      <td>0.199183</td>\n",
              "      <td>0.211189</td>\n",
              "      <td>0.239399</td>\n",
              "      <td>-0.373822</td>\n",
              "      <td>-0.066665</td>\n",
              "      <td>-0.032674</td>\n",
              "      <td>-0.059337</td>\n",
              "      <td>0.304323</td>\n",
              "      <td>-0.234559</td>\n",
              "      <td>-0.485936</td>\n",
              "      <td>-1.022841</td>\n",
              "      <td>-0.524635</td>\n",
              "      <td>-0.349269</td>\n",
              "      <td>-0.109370</td>\n",
              "      <td>-0.168632</td>\n",
              "      <td>-0.340974</td>\n",
              "      <td>0.205476</td>\n",
              "      <td>-0.359956</td>\n",
              "      <td>-0.687200</td>\n",
              "      <td>0.035915</td>\n",
              "      <td>-0.047075</td>\n",
              "      <td>0</td>\n",
              "      <td>0</td>\n",
              "      <td>0</td>\n",
              "      <td>1</td>\n",
              "      <td>49</td>\n",
              "    </tr>\n",
              "    <tr>\n",
              "      <th>1</th>\n",
              "      <td>-0.119618</td>\n",
              "      <td>0.233673</td>\n",
              "      <td>0.388971</td>\n",
              "      <td>-0.284565</td>\n",
              "      <td>0.366891</td>\n",
              "      <td>-0.263530</td>\n",
              "      <td>-0.156496</td>\n",
              "      <td>-0.175474</td>\n",
              "      <td>0.010741</td>\n",
              "      <td>-0.221121</td>\n",
              "      <td>0.029777</td>\n",
              "      <td>0.037707</td>\n",
              "      <td>-0.043904</td>\n",
              "      <td>0.203864</td>\n",
              "      <td>-0.127190</td>\n",
              "      <td>0.904664</td>\n",
              "      <td>-0.001759</td>\n",
              "      <td>-0.056294</td>\n",
              "      <td>-0.148297</td>\n",
              "      <td>0.013065</td>\n",
              "      <td>0.098659</td>\n",
              "      <td>-0.222912</td>\n",
              "      <td>0.230160</td>\n",
              "      <td>0.085756</td>\n",
              "      <td>0.220582</td>\n",
              "      <td>0.221145</td>\n",
              "      <td>-0.243964</td>\n",
              "      <td>-0.219535</td>\n",
              "      <td>-0.426963</td>\n",
              "      <td>0.513781</td>\n",
              "      <td>0.862359</td>\n",
              "      <td>0.386674</td>\n",
              "      <td>0.068511</td>\n",
              "      <td>-0.662784</td>\n",
              "      <td>-0.336401</td>\n",
              "      <td>-0.108923</td>\n",
              "      <td>0.222039</td>\n",
              "      <td>0.322167</td>\n",
              "      <td>0.088777</td>\n",
              "      <td>0.690272</td>\n",
              "      <td>...</td>\n",
              "      <td>0.269197</td>\n",
              "      <td>-0.177714</td>\n",
              "      <td>-0.234797</td>\n",
              "      <td>0.168693</td>\n",
              "      <td>0.125758</td>\n",
              "      <td>0.293837</td>\n",
              "      <td>0.017818</td>\n",
              "      <td>-0.176463</td>\n",
              "      <td>0.245259</td>\n",
              "      <td>-0.205534</td>\n",
              "      <td>-0.377857</td>\n",
              "      <td>-0.351560</td>\n",
              "      <td>0.163702</td>\n",
              "      <td>-0.249110</td>\n",
              "      <td>0.016858</td>\n",
              "      <td>0.155448</td>\n",
              "      <td>0.451710</td>\n",
              "      <td>-0.103035</td>\n",
              "      <td>0.300852</td>\n",
              "      <td>-0.038376</td>\n",
              "      <td>0.019314</td>\n",
              "      <td>0.048110</td>\n",
              "      <td>0.003934</td>\n",
              "      <td>-0.460683</td>\n",
              "      <td>-0.319305</td>\n",
              "      <td>-0.549644</td>\n",
              "      <td>-0.009801</td>\n",
              "      <td>-0.584275</td>\n",
              "      <td>-0.248310</td>\n",
              "      <td>-0.133273</td>\n",
              "      <td>0.429948</td>\n",
              "      <td>-0.275808</td>\n",
              "      <td>-0.050797</td>\n",
              "      <td>0.024669</td>\n",
              "      <td>-0.129476</td>\n",
              "      <td>1</td>\n",
              "      <td>1</td>\n",
              "      <td>1</td>\n",
              "      <td>2</td>\n",
              "      <td>52</td>\n",
              "    </tr>\n",
              "    <tr>\n",
              "      <th>2</th>\n",
              "      <td>0.118571</td>\n",
              "      <td>-0.239992</td>\n",
              "      <td>0.892090</td>\n",
              "      <td>-0.590311</td>\n",
              "      <td>0.244341</td>\n",
              "      <td>-0.461786</td>\n",
              "      <td>-0.424682</td>\n",
              "      <td>-0.319129</td>\n",
              "      <td>-0.050232</td>\n",
              "      <td>-0.177460</td>\n",
              "      <td>0.188866</td>\n",
              "      <td>0.144373</td>\n",
              "      <td>0.701320</td>\n",
              "      <td>0.404683</td>\n",
              "      <td>0.019416</td>\n",
              "      <td>0.599780</td>\n",
              "      <td>-0.058971</td>\n",
              "      <td>-0.200306</td>\n",
              "      <td>0.275102</td>\n",
              "      <td>-0.244152</td>\n",
              "      <td>0.352123</td>\n",
              "      <td>0.228530</td>\n",
              "      <td>-0.120158</td>\n",
              "      <td>-0.128495</td>\n",
              "      <td>0.257860</td>\n",
              "      <td>0.362371</td>\n",
              "      <td>-0.274145</td>\n",
              "      <td>-0.482561</td>\n",
              "      <td>-0.302005</td>\n",
              "      <td>0.004656</td>\n",
              "      <td>0.664816</td>\n",
              "      <td>0.270447</td>\n",
              "      <td>-0.571720</td>\n",
              "      <td>-0.580444</td>\n",
              "      <td>0.045438</td>\n",
              "      <td>-0.121917</td>\n",
              "      <td>0.219843</td>\n",
              "      <td>0.188815</td>\n",
              "      <td>-0.414748</td>\n",
              "      <td>0.365277</td>\n",
              "      <td>...</td>\n",
              "      <td>-0.394504</td>\n",
              "      <td>0.199963</td>\n",
              "      <td>0.259205</td>\n",
              "      <td>0.015664</td>\n",
              "      <td>0.468405</td>\n",
              "      <td>0.214694</td>\n",
              "      <td>0.430537</td>\n",
              "      <td>0.294235</td>\n",
              "      <td>0.243053</td>\n",
              "      <td>-0.345951</td>\n",
              "      <td>-0.121678</td>\n",
              "      <td>-0.725440</td>\n",
              "      <td>-0.132304</td>\n",
              "      <td>0.002526</td>\n",
              "      <td>0.102933</td>\n",
              "      <td>-0.036722</td>\n",
              "      <td>0.039097</td>\n",
              "      <td>-0.071635</td>\n",
              "      <td>-0.068161</td>\n",
              "      <td>-0.289076</td>\n",
              "      <td>-0.555402</td>\n",
              "      <td>-0.060344</td>\n",
              "      <td>-0.201275</td>\n",
              "      <td>-0.547013</td>\n",
              "      <td>-0.818709</td>\n",
              "      <td>-0.551684</td>\n",
              "      <td>-0.339579</td>\n",
              "      <td>-0.215057</td>\n",
              "      <td>-0.119362</td>\n",
              "      <td>-0.254128</td>\n",
              "      <td>0.095207</td>\n",
              "      <td>-0.629730</td>\n",
              "      <td>-0.455287</td>\n",
              "      <td>0.088357</td>\n",
              "      <td>0.080491</td>\n",
              "      <td>1</td>\n",
              "      <td>0</td>\n",
              "      <td>0</td>\n",
              "      <td>3</td>\n",
              "      <td>23</td>\n",
              "    </tr>\n",
              "    <tr>\n",
              "      <th>3</th>\n",
              "      <td>0.069110</td>\n",
              "      <td>0.352247</td>\n",
              "      <td>0.030482</td>\n",
              "      <td>-0.891156</td>\n",
              "      <td>0.613150</td>\n",
              "      <td>-0.256157</td>\n",
              "      <td>0.327572</td>\n",
              "      <td>-0.085017</td>\n",
              "      <td>0.081322</td>\n",
              "      <td>0.259983</td>\n",
              "      <td>0.134138</td>\n",
              "      <td>0.053425</td>\n",
              "      <td>-0.030330</td>\n",
              "      <td>0.223629</td>\n",
              "      <td>0.088144</td>\n",
              "      <td>1.000456</td>\n",
              "      <td>0.392520</td>\n",
              "      <td>0.024163</td>\n",
              "      <td>-0.121637</td>\n",
              "      <td>-0.304955</td>\n",
              "      <td>0.157775</td>\n",
              "      <td>0.084510</td>\n",
              "      <td>-0.203554</td>\n",
              "      <td>-0.368076</td>\n",
              "      <td>0.215218</td>\n",
              "      <td>0.440867</td>\n",
              "      <td>0.163690</td>\n",
              "      <td>-0.065575</td>\n",
              "      <td>-0.682051</td>\n",
              "      <td>0.119944</td>\n",
              "      <td>0.102716</td>\n",
              "      <td>0.146327</td>\n",
              "      <td>-0.154448</td>\n",
              "      <td>-0.394389</td>\n",
              "      <td>-0.293356</td>\n",
              "      <td>-0.062651</td>\n",
              "      <td>0.252492</td>\n",
              "      <td>0.162945</td>\n",
              "      <td>-0.106116</td>\n",
              "      <td>0.297655</td>\n",
              "      <td>...</td>\n",
              "      <td>0.037878</td>\n",
              "      <td>0.062055</td>\n",
              "      <td>0.355162</td>\n",
              "      <td>-0.116535</td>\n",
              "      <td>0.000099</td>\n",
              "      <td>0.664152</td>\n",
              "      <td>0.387566</td>\n",
              "      <td>0.558281</td>\n",
              "      <td>-0.167727</td>\n",
              "      <td>-0.393455</td>\n",
              "      <td>-0.224051</td>\n",
              "      <td>-0.219993</td>\n",
              "      <td>-0.122360</td>\n",
              "      <td>0.027801</td>\n",
              "      <td>-0.130450</td>\n",
              "      <td>-0.235176</td>\n",
              "      <td>-0.057766</td>\n",
              "      <td>-0.014512</td>\n",
              "      <td>0.034160</td>\n",
              "      <td>-0.207622</td>\n",
              "      <td>-0.144044</td>\n",
              "      <td>0.367071</td>\n",
              "      <td>-0.061523</td>\n",
              "      <td>-0.362517</td>\n",
              "      <td>-0.525074</td>\n",
              "      <td>-0.603688</td>\n",
              "      <td>-0.714121</td>\n",
              "      <td>0.098793</td>\n",
              "      <td>0.126863</td>\n",
              "      <td>-0.145168</td>\n",
              "      <td>0.230213</td>\n",
              "      <td>-0.557157</td>\n",
              "      <td>-0.499219</td>\n",
              "      <td>-0.156966</td>\n",
              "      <td>0.088316</td>\n",
              "      <td>1</td>\n",
              "      <td>0</td>\n",
              "      <td>0</td>\n",
              "      <td>4</td>\n",
              "      <td>102</td>\n",
              "    </tr>\n",
              "    <tr>\n",
              "      <th>4</th>\n",
              "      <td>0.085441</td>\n",
              "      <td>-0.024253</td>\n",
              "      <td>0.719638</td>\n",
              "      <td>-0.547666</td>\n",
              "      <td>0.231693</td>\n",
              "      <td>0.099816</td>\n",
              "      <td>-0.165823</td>\n",
              "      <td>0.256770</td>\n",
              "      <td>-0.016716</td>\n",
              "      <td>0.170235</td>\n",
              "      <td>-0.194906</td>\n",
              "      <td>-0.454936</td>\n",
              "      <td>0.248666</td>\n",
              "      <td>0.385948</td>\n",
              "      <td>-0.273022</td>\n",
              "      <td>0.597467</td>\n",
              "      <td>-0.161642</td>\n",
              "      <td>0.236268</td>\n",
              "      <td>-0.222633</td>\n",
              "      <td>-0.043212</td>\n",
              "      <td>0.111046</td>\n",
              "      <td>0.140017</td>\n",
              "      <td>-0.037486</td>\n",
              "      <td>-0.441277</td>\n",
              "      <td>0.614327</td>\n",
              "      <td>-0.078916</td>\n",
              "      <td>-0.117642</td>\n",
              "      <td>-0.622913</td>\n",
              "      <td>-0.434842</td>\n",
              "      <td>0.208062</td>\n",
              "      <td>0.879462</td>\n",
              "      <td>0.211798</td>\n",
              "      <td>0.091427</td>\n",
              "      <td>-0.524002</td>\n",
              "      <td>-0.003602</td>\n",
              "      <td>-0.490857</td>\n",
              "      <td>0.239493</td>\n",
              "      <td>-0.157967</td>\n",
              "      <td>0.206943</td>\n",
              "      <td>0.463441</td>\n",
              "      <td>...</td>\n",
              "      <td>-0.570396</td>\n",
              "      <td>0.246796</td>\n",
              "      <td>0.236969</td>\n",
              "      <td>0.350109</td>\n",
              "      <td>0.104056</td>\n",
              "      <td>0.065443</td>\n",
              "      <td>0.427428</td>\n",
              "      <td>0.168489</td>\n",
              "      <td>0.226285</td>\n",
              "      <td>-0.389619</td>\n",
              "      <td>-0.445411</td>\n",
              "      <td>-0.663465</td>\n",
              "      <td>-0.254567</td>\n",
              "      <td>-0.026373</td>\n",
              "      <td>0.400284</td>\n",
              "      <td>-0.108943</td>\n",
              "      <td>0.257606</td>\n",
              "      <td>0.461664</td>\n",
              "      <td>0.114192</td>\n",
              "      <td>-0.157840</td>\n",
              "      <td>0.175875</td>\n",
              "      <td>0.200491</td>\n",
              "      <td>-0.454045</td>\n",
              "      <td>-0.582636</td>\n",
              "      <td>-0.556065</td>\n",
              "      <td>-0.537432</td>\n",
              "      <td>-0.363988</td>\n",
              "      <td>-0.212688</td>\n",
              "      <td>0.251206</td>\n",
              "      <td>0.487547</td>\n",
              "      <td>0.192735</td>\n",
              "      <td>-0.506431</td>\n",
              "      <td>-0.487639</td>\n",
              "      <td>-0.111139</td>\n",
              "      <td>-0.030190</td>\n",
              "      <td>0</td>\n",
              "      <td>1</td>\n",
              "      <td>2</td>\n",
              "      <td>3</td>\n",
              "      <td>144</td>\n",
              "    </tr>\n",
              "  </tbody>\n",
              "</table>\n",
              "<p>5 rows × 773 columns</p>\n",
              "</div>"
            ],
            "text/plain": [
              "          0         1  ...  header_subject_len  content_mail_body_len\n",
              "0 -0.061652 -0.301240  ...                   1                     49\n",
              "1 -0.119618  0.233673  ...                   2                     52\n",
              "2  0.118571 -0.239992  ...                   3                     23\n",
              "3  0.069110  0.352247  ...                   4                    102\n",
              "4  0.085441 -0.024253  ...                   3                    144\n",
              "\n",
              "[5 rows x 773 columns]"
            ]
          },
          "metadata": {
            "tags": []
          },
          "execution_count": 256
        }
      ]
    },
    {
      "cell_type": "code",
      "metadata": {
        "colab": {
          "base_uri": "https://localhost:8080/"
        },
        "id": "Iw0MUnEoAOio",
        "outputId": "38e1407e-d6b3-4c78-8e18-ed6962951d9b"
      },
      "source": [
        "# Target Variable\n",
        "Ydata = data['if_reply(yes/no)']\n",
        "Ydata"
      ],
      "execution_count": null,
      "outputs": [
        {
          "output_type": "execute_result",
          "data": {
            "text/plain": [
              "0        no\n",
              "1       yes\n",
              "2       yes\n",
              "3       yes\n",
              "4        no\n",
              "       ... \n",
              "2994    yes\n",
              "2995    yes\n",
              "2996    yes\n",
              "2997     no\n",
              "2998    yes\n",
              "Name: if_reply(yes/no), Length: 2999, dtype: object"
            ]
          },
          "metadata": {
            "tags": []
          },
          "execution_count": 257
        }
      ]
    },
    {
      "cell_type": "code",
      "metadata": {
        "colab": {
          "base_uri": "https://localhost:8080/"
        },
        "id": "p8Td4GRuAOgb",
        "outputId": "b242d846-ab73-428c-93e5-952d03116e9b"
      },
      "source": [
        "# Label encoding for target variable\n",
        "Ydata = le.fit_transform(Ydata)\n",
        "Ydata"
      ],
      "execution_count": null,
      "outputs": [
        {
          "output_type": "execute_result",
          "data": {
            "text/plain": [
              "array([0, 1, 1, ..., 1, 0, 1])"
            ]
          },
          "metadata": {
            "tags": []
          },
          "execution_count": 258
        }
      ]
    },
    {
      "cell_type": "code",
      "metadata": {
        "colab": {
          "base_uri": "https://localhost:8080/"
        },
        "id": "yrI3p-H8AOdK",
        "outputId": "67f0a78e-5bb5-4828-e409-459693ae2a34"
      },
      "source": [
        "# Train-test split in 70: 30 ratio\n",
        "X_train, X_test, y_train, y_test = train_test_split(Xdata, Ydata, test_size=0.30)\n",
        "print(\"X_train shape:\",X_train.shape)\n",
        "print(\"y_train shape:\",y_train.shape)\n",
        "print(\"X_test shape:\",X_test.shape)\n",
        "print(\"y_test shape\",y_test.shape)"
      ],
      "execution_count": null,
      "outputs": [
        {
          "output_type": "stream",
          "text": [
            "X_train shape: (2099, 773)\n",
            "y_train shape: (2099,)\n",
            "X_test shape: (900, 773)\n",
            "y_test shape (900,)\n"
          ],
          "name": "stdout"
        }
      ]
    },
    {
      "cell_type": "markdown",
      "metadata": {
        "id": "xBZQ1sAeD34x"
      },
      "source": [
        "For modelling we will be training our feature set of BERT embeddings + other features on the MLP Classifier (i.e. FC NN with sigmoid output) \n",
        "\n"
      ]
    },
    {
      "cell_type": "code",
      "metadata": {
        "id": "XbNPeFeTAOXp"
      },
      "source": [
        "from sklearn.neural_network import MLPClassifier\n",
        "clf = MLPClassifier(random_state=1, max_iter=300).fit(X_train, y_train)"
      ],
      "execution_count": null,
      "outputs": []
    },
    {
      "cell_type": "code",
      "metadata": {
        "id": "rGO_PrOYYhpF"
      },
      "source": [
        "output = clf.predict(X_test)"
      ],
      "execution_count": null,
      "outputs": []
    },
    {
      "cell_type": "code",
      "metadata": {
        "id": "ffoiEJurcBlt"
      },
      "source": [
        "dict = {'predictions': output}\r\n",
        "df = pd.DataFrame(dict)\r\n",
        "# saving the dataframe  \r\n",
        "df.to_csv('/content/drive/My Drive/Bugendaitech/output.csv')"
      ],
      "execution_count": null,
      "outputs": []
    },
    {
      "cell_type": "code",
      "metadata": {
        "id": "2d_g38LMZ0d8"
      },
      "source": [
        "np.savetxt(\"output.csv\",  \r\n",
        "           output, \r\n",
        "           delimiter =\",\",  \r\n",
        "           fmt ='% s')"
      ],
      "execution_count": null,
      "outputs": []
    },
    {
      "cell_type": "code",
      "metadata": {
        "colab": {
          "base_uri": "https://localhost:8080/"
        },
        "id": "QHSquTd3AOUj",
        "outputId": "bf915aa5-ef1e-4688-daef-0e195daf894d"
      },
      "source": [
        "# F-1 score on test data\n",
        "print(\"F-1 score:\",round(f1_score(clf.predict(X_test),y_test),3))"
      ],
      "execution_count": null,
      "outputs": [
        {
          "output_type": "stream",
          "text": [
            "F-1 score: 0.993\n"
          ],
          "name": "stdout"
        }
      ]
    },
    {
      "cell_type": "code",
      "metadata": {
        "id": "rPNWt0QV3ENW",
        "colab": {
          "base_uri": "https://localhost:8080/",
          "height": 295
        },
        "outputId": "1b6b8282-101a-4d7c-f862-0de74480c174"
      },
      "source": [
        "import matplotlib.pyplot as plt \n",
        "\n",
        "metrics.plot_roc_curve(clf, X_test, y_test)  \n",
        "plt.title(\"ROC-AUC curve\")\n",
        "plt.show()"
      ],
      "execution_count": null,
      "outputs": [
        {
          "output_type": "display_data",
          "data": {
            "image/png": "[encoded data removed]",
            "text/plain": [
              "<Figure size 432x288 with 1 Axes>"
            ]
          },
          "metadata": {
            "tags": [],
            "needs_background": "light"
          }
        }
      ]
    },
    {
      "cell_type": "markdown",
      "metadata": {
        "id": "7DxhhZneFh_I"
      },
      "source": [
        "The BERT embeddings were successful in capturing the context and meaning of the extracted email text, which in combination with our extracted features resulted in such F-1 score of the model."
      ]
    }
  ]
}